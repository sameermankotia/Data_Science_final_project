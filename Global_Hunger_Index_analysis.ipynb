{
  "cells": [
    {
      "cell_type": "markdown",
      "source": [
        "Data Preprocessing\n"
      ],
      "metadata": {
        "id": "ceNXMHZ-5beu"
      }
    },
    {
      "cell_type": "code",
      "execution_count": 3,
      "metadata": {
        "colab": {
          "base_uri": "https://localhost:8080/"
        },
        "id": "ElltC4yl7HGI",
        "outputId": "173d2f0d-db68-437d-8908-75611cc0c7ba"
      },
      "outputs": [
        {
          "output_type": "stream",
          "name": "stdout",
          "text": [
            "       Country  2007  2008  2014  2015  2022  2023\n",
            "0  Afghanistan  38.7  36.5  30.6  30.4  29.9  30.6\n",
            "1      Albania  15.8  15.5   9.2   8.8   6.2   6.1\n",
            "2      Algeria  11.4  11.1   8.7   8.5   6.9   6.8\n",
            "3       Angola  44.7  42.9  26.2  25.7  25.9  25.9\n",
            "4    Argentina   5.5   5.5   5.0   5.3   6.8   6.4\n",
            "Index(['Country', '2007', '2008', '2014', '2015', '2022', '2023'], dtype='object')\n",
            "(115, 7)\n",
            "<class 'pandas.core.frame.DataFrame'>\n",
            "RangeIndex: 115 entries, 0 to 114\n",
            "Data columns (total 7 columns):\n",
            " #   Column   Non-Null Count  Dtype  \n",
            "---  ------   --------------  -----  \n",
            " 0   Country  115 non-null    object \n",
            " 1   2007     115 non-null    float64\n",
            " 2   2008     115 non-null    float64\n",
            " 3   2014     115 non-null    float64\n",
            " 4   2015     115 non-null    float64\n",
            " 5   2022     115 non-null    float64\n",
            " 6   2023     115 non-null    float64\n",
            "dtypes: float64(6), object(1)\n",
            "memory usage: 6.4+ KB\n",
            "None\n",
            "             2007        2008        2014        2015        2022        2023\n",
            "count  115.000000  115.000000  115.000000  115.000000  115.000000  115.000000\n",
            "mean    20.630435   19.906957   16.365217   16.200000   15.262609   15.030435\n",
            "std     12.648973   12.118904   10.631433   10.551021   10.253621   10.265529\n",
            "min      3.000000    3.000000    3.000000    3.000000    3.000000    3.000000\n",
            "25%     10.400000   10.000000    7.400000    7.200000    6.850000    6.550000\n",
            "50%     18.600000   17.500000   14.100000   14.600000   13.400000   13.300000\n",
            "75%     30.950000   29.800000   25.400000   24.150000   21.600000   21.550000\n",
            "max     51.100000   49.900000   44.600000   44.000000   45.100000   42.300000\n",
            "Country    False\n",
            "2007       False\n",
            "2008       False\n",
            "2014       False\n",
            "2015       False\n",
            "2022       False\n",
            "2023       False\n",
            "dtype: bool\n",
            "Country    0\n",
            "2007       0\n",
            "2008       0\n",
            "2014       0\n",
            "2015       0\n",
            "2022       0\n",
            "2023       0\n",
            "dtype: int64\n",
            "Index(['Country', '2007', '2008', '2014', '2015', '2022', '2023'], dtype='object')\n",
            "['Afghanistan', 'Albania', 'Algeria', 'Angola', 'Argentina', 'Armenia', 'Azerbaijan', 'Bangladesh', 'Belarus', 'Benin', 'Bolivia (Plurinational State of)', 'Bosnia & Herzegovina', 'Botswana', 'Brazil', 'Bulgaria', 'Burkina Faso', 'Cabo Verde', 'Cambodia', 'Cameroon', 'Central African Rep.', 'Chad', 'Chile', 'China', 'Colombia', 'Comoros', 'Congo (Republic of)', 'Costa Rica', 'Croatia', \"CÃ´te d'Ivoire\", 'Dem. Rep. of the Congo', 'Djibouti', 'Dominican Republic', 'Ecuador', 'Egypt', 'El Salvador', 'Estonia', 'Eswatini', 'Ethiopia', 'Fiji', 'Gabon', 'Gambia', 'Georgia', 'Ghana', 'Guatemala', 'Guinea-Bissau', 'Guyana', 'Haiti', 'Honduras', 'Hungary', 'India', 'Indonesia', 'Iran (Islamic Republic of)', 'Iraq', 'Jamaica', 'Kazakhstan', 'Kenya', 'Korea (DPR)', 'Kuwait', 'Kyrgyz Republic', 'Lao PDR', 'Latvia', 'Lesotho', 'Liberia', 'Lithuania', 'Madagascar', 'Malawi', 'Malaysia', 'Mali', 'Mauritania', 'Mauritius', 'Mexico', 'Moldova', 'Mongolia', 'Morocco', 'Myanmar', 'Namibia', 'Nepal', 'Nicaragua', 'Niger', 'Nigeria', 'North Macedonia', 'Oman', 'Pakistan', 'Panama', 'Papua New Guinea', 'Paraguay', 'Peru', 'Philippines', 'Romania', 'Russian Federation', 'Rwanda', 'Saudi Arabia', 'Senegal', 'Sierra Leone', 'Slovak Republic', 'Solomon Islands', 'South Africa', 'Sri Lanka', 'Suriname', 'Tajikistan', 'Tanzania (United Republic of)', 'Thailand', 'Togo', 'Trinidad & Tobago', 'Tunisia', 'Turkmenistan', 'TÃ¼rkiye', 'Ukraine', 'United Arab Emirates', 'Uruguay', 'Uzbekistan', 'Venezuela (Bolivarian Republic of)', 'Viet Nam', 'Yemen', 'Zambia']\n"
          ]
        }
      ],
      "source": [
        "import pandas as pd\n",
        "import numpy as np\n",
        "import matplotlib.pyplot as plt\n",
        "\n",
        "# Load the dataset with specified encoding\n",
        "data = pd.read_csv('/content/more_years.csv', encoding='ISO-8859-1')\n",
        "\n",
        "# Data Preprocessing\n",
        "# Display the first few rows of the DataFrame\n",
        "print(data.head())\n",
        "\n",
        "# Display the column names\n",
        "print(data.columns)\n",
        "\n",
        "# Remove unnecessary columns\n",
        "#data = data.drop(['Unnamed: 6', 'Unnamed: 7', 'Unnamed: 8', 'Unnamed: 9', 'Unnamed: 10', 'Unnamed: 11'], axis=1)\n",
        "\n",
        "# Display the shape of the DataFrame\n",
        "print(data.shape)\n",
        "\n",
        "# Display information about the DataFrame\n",
        "print(data.info())\n",
        "\n",
        "# Display descriptive statistics for numerical columns\n",
        "print(data.describe())\n",
        "\n",
        "# Check for missing values\n",
        "print(data.isnull().any())\n",
        "\n",
        "# Summarize the missing values\n",
        "print(data.isnull().sum())\n",
        "\n",
        "# Display the column names\n",
        "print(data.columns)\n",
        "\n",
        "# Convert numeric columns to the appropriate data type\n",
        "data['2007'] = pd.to_numeric(data['2007'], errors='coerce')\n",
        "data['2008'] = pd.to_numeric(data['2008'], errors='coerce')\n",
        "data['2014'] = pd.to_numeric(data['2014'], errors='coerce')\n",
        "data['2015'] = pd.to_numeric(data['2015'], errors='coerce')\n",
        "data['2022'] = pd.to_numeric(data['2022'], errors='coerce')\n",
        "data['2023'] = pd.to_numeric(data['2023'], errors='coerce')\n",
        "# Convert Country column to list\n",
        "country_list = data['Country'].tolist()\n",
        "print(country_list)\n"
      ]
    },
    {
      "cell_type": "markdown",
      "source": [
        "1st Analysis:- Comparison of Hunger Levels of All Countries"
      ],
      "metadata": {
        "id": "eEosagPP5iOR"
      }
    },
    {
      "cell_type": "code",
      "execution_count": 4,
      "metadata": {
        "colab": {
          "base_uri": "https://localhost:8080/",
          "height": 810
        },
        "id": "I8tscEQI85yz",
        "outputId": "68741dac-41e4-4df2-a6da-51c9bd65a002"
      },
      "outputs": [
        {
          "output_type": "display_data",
          "data": {
            "text/html": [
              "<html>\n",
              "<head><meta charset=\"utf-8\" /></head>\n",
              "<body>\n",
              "    <div>            <script src=\"https://cdnjs.cloudflare.com/ajax/libs/mathjax/2.7.5/MathJax.js?config=TeX-AMS-MML_SVG\"></script><script type=\"text/javascript\">if (window.MathJax && window.MathJax.Hub && window.MathJax.Hub.Config) {window.MathJax.Hub.Config({SVG: {font: \"STIX-Web\"}});}</script>                <script type=\"text/javascript\">window.PlotlyConfig = {MathJaxConfig: 'local'};</script>\n",
              "        <script charset=\"utf-8\" src=\"https://cdn.plot.ly/plotly-2.24.1.min.js\"></script>                <div id=\"d4530ced-ba43-4720-b397-1e9d86af910c\" class=\"plotly-graph-div\" style=\"height:525px; width:100%;\"></div>            <script type=\"text/javascript\">                                    window.PLOTLYENV=window.PLOTLYENV || {};                                    if (document.getElementById(\"d4530ced-ba43-4720-b397-1e9d86af910c\")) {                    Plotly.newPlot(                        \"d4530ced-ba43-4720-b397-1e9d86af910c\",                        [{\"alignmentgroup\":\"True\",\"hovertemplate\":\"Hunger Index=%{marker.color}\\u003cbr\\u003eCountry=%{y}\\u003cextra\\u003e\\u003c\\u002fextra\\u003e\",\"legendgroup\":\"\",\"marker\":{\"color\":[42.3,41.0,39.9,35.7,35.5,35.1,34.6,33.0,32.2,31.3,31.1,30.6,28.7,28.5,28.3,28.0,27.8,27.4,26.6,26.2,25.9,25.6,25.5,25.4,23.2,23.0,22.7,22.6,22.0,21.1,21.1,21.0,20.6,19.9,19.7,19.6,19.1,19.0,18.7,18.6,18.0,17.6,17.3,17.3,16.3,16.1,15.6,15.0,15.0,14.9,14.9,14.8,14.5,13.8,13.7,13.7,13.6,13.3,13.0,13.0,12.8,12.5,12.4,11.4,10.8,10.4,10.4,10.3,9.7,9.3,9.0,8.6,8.3,8.2,8.1,7.9,7.7,7.5,7.5,7.5,7.3,7.2,7.0,6.9,6.8,6.7,6.4,6.1,6.0,6.0,5.9,5.8,5.6,5.5,5.4,5.1,5.0,3.0,3.0,3.0,3.0,3.0,3.0,3.0,3.0,3.0,3.0,3.0,3.0,3.0,3.0,3.0,3.0,3.0,3.0],\"coloraxis\":\"coloraxis\",\"pattern\":{\"shape\":\"\"}},\"name\":\"\",\"offsetgroup\":\"\",\"orientation\":\"h\",\"showlegend\":false,\"textposition\":\"auto\",\"x\":[42.3,41.0,39.9,35.7,35.5,35.1,34.6,33.0,32.2,31.3,31.1,30.6,28.7,28.5,28.3,28.0,27.8,27.4,26.6,26.2,25.9,25.6,25.5,25.4,23.2,23.0,22.7,22.6,22.0,21.1,21.1,21.0,20.6,19.9,19.7,19.6,19.1,19.0,18.7,18.6,18.0,17.6,17.3,17.3,16.3,16.1,15.6,15.0,15.0,14.9,14.9,14.8,14.5,13.8,13.7,13.7,13.6,13.3,13.0,13.0,12.8,12.5,12.4,11.4,10.8,10.4,10.4,10.3,9.7,9.3,9.0,8.6,8.3,8.2,8.1,7.9,7.7,7.5,7.5,7.5,7.3,7.2,7.0,6.9,6.8,6.7,6.4,6.1,6.0,6.0,5.9,5.8,5.6,5.5,5.4,5.1,5.0,3.0,3.0,3.0,3.0,3.0,3.0,3.0,3.0,3.0,3.0,3.0,3.0,3.0,3.0,3.0,3.0,3.0,3.0],\"xaxis\":\"x\",\"y\":[\"Central African Rep.\",\"Madagascar\",\"Yemen\",\"Dem. Rep. of the Congo\",\"Lesotho\",\"Niger\",\"Chad\",\"Guinea-Bissau\",\"Liberia\",\"Sierra Leone\",\"Haiti\",\"Afghanistan\",\"India\",\"Zambia\",\"Nigeria\",\"Congo (Republic of)\",\"Korea (DPR)\",\"Papua New Guinea\",\"Pakistan\",\"Ethiopia\",\"Angola\",\"Mali\",\"Burkina Faso\",\"Rwanda\",\"Tanzania (United Republic of)\",\"Djibouti\",\"Comoros\",\"Benin\",\"Kenya\",\"Malawi\",\"Togo\",\"Mauritania\",\"Croatia\",\"Botswana\",\"Gambia\",\"Solomon Islands\",\"Guatemala\",\"Bangladesh\",\"Gabon\",\"Cameroon\",\"Namibia\",\"Indonesia\",\"Eswatini\",\"Venezuela (Bolivarian Republic of)\",\"Lao PDR\",\"Myanmar\",\"Bolivia (Plurinational State of)\",\"Senegal\",\"Nepal\",\"Cambodia\",\"Honduras\",\"Philippines\",\"Ecuador\",\"Iraq\",\"Tajikistan\",\"Ghana\",\"Mauritius\",\"Sri Lanka\",\"Nicaragua\",\"South Africa\",\"Egypt\",\"Malaysia\",\"Cabo Verde\",\"Viet Nam\",\"Trinidad & Tobago\",\"Suriname\",\"Thailand\",\"T\\u00c3\\u00bcrkiye\",\"Fiji\",\"Guyana\",\"Morocco\",\"Dominican Republic\",\"Oman\",\"Ukraine\",\"El Salvador\",\"Panama\",\"Iran (Islamic Republic of)\",\"Jamaica\",\"Mongolia\",\"Kyrgyz Republic\",\"Saudi Arabia\",\"Peru\",\"Colombia\",\"Azerbaijan\",\"Algeria\",\"Brazil\",\"Argentina\",\"Albania\",\"Mexico\",\"Paraguay\",\"Tunisia\",\"Russian Federation\",\"Armenia\",\"Kazakhstan\",\"Bulgaria\",\"Costa Rica\",\"Uzbekistan\",\"Slovak Republic\",\"Romania\",\"Chile\",\"China\",\"Uruguay\",\"United Arab Emirates\",\"C\\u00c3\\u00b4te d'Ivoire\",\"Bosnia & Herzegovina\",\"Turkmenistan\",\"Estonia\",\"Georgia\",\"Hungary\",\"Belarus\",\"Latvia\",\"Lithuania\",\"Moldova\",\"North Macedonia\",\"Kuwait\"],\"yaxis\":\"y\",\"type\":\"bar\"}],                        {\"template\":{\"data\":{\"histogram2dcontour\":[{\"type\":\"histogram2dcontour\",\"colorbar\":{\"outlinewidth\":0,\"ticks\":\"\"},\"colorscale\":[[0.0,\"#0d0887\"],[0.1111111111111111,\"#46039f\"],[0.2222222222222222,\"#7201a8\"],[0.3333333333333333,\"#9c179e\"],[0.4444444444444444,\"#bd3786\"],[0.5555555555555556,\"#d8576b\"],[0.6666666666666666,\"#ed7953\"],[0.7777777777777778,\"#fb9f3a\"],[0.8888888888888888,\"#fdca26\"],[1.0,\"#f0f921\"]]}],\"choropleth\":[{\"type\":\"choropleth\",\"colorbar\":{\"outlinewidth\":0,\"ticks\":\"\"}}],\"histogram2d\":[{\"type\":\"histogram2d\",\"colorbar\":{\"outlinewidth\":0,\"ticks\":\"\"},\"colorscale\":[[0.0,\"#0d0887\"],[0.1111111111111111,\"#46039f\"],[0.2222222222222222,\"#7201a8\"],[0.3333333333333333,\"#9c179e\"],[0.4444444444444444,\"#bd3786\"],[0.5555555555555556,\"#d8576b\"],[0.6666666666666666,\"#ed7953\"],[0.7777777777777778,\"#fb9f3a\"],[0.8888888888888888,\"#fdca26\"],[1.0,\"#f0f921\"]]}],\"heatmap\":[{\"type\":\"heatmap\",\"colorbar\":{\"outlinewidth\":0,\"ticks\":\"\"},\"colorscale\":[[0.0,\"#0d0887\"],[0.1111111111111111,\"#46039f\"],[0.2222222222222222,\"#7201a8\"],[0.3333333333333333,\"#9c179e\"],[0.4444444444444444,\"#bd3786\"],[0.5555555555555556,\"#d8576b\"],[0.6666666666666666,\"#ed7953\"],[0.7777777777777778,\"#fb9f3a\"],[0.8888888888888888,\"#fdca26\"],[1.0,\"#f0f921\"]]}],\"heatmapgl\":[{\"type\":\"heatmapgl\",\"colorbar\":{\"outlinewidth\":0,\"ticks\":\"\"},\"colorscale\":[[0.0,\"#0d0887\"],[0.1111111111111111,\"#46039f\"],[0.2222222222222222,\"#7201a8\"],[0.3333333333333333,\"#9c179e\"],[0.4444444444444444,\"#bd3786\"],[0.5555555555555556,\"#d8576b\"],[0.6666666666666666,\"#ed7953\"],[0.7777777777777778,\"#fb9f3a\"],[0.8888888888888888,\"#fdca26\"],[1.0,\"#f0f921\"]]}],\"contourcarpet\":[{\"type\":\"contourcarpet\",\"colorbar\":{\"outlinewidth\":0,\"ticks\":\"\"}}],\"contour\":[{\"type\":\"contour\",\"colorbar\":{\"outlinewidth\":0,\"ticks\":\"\"},\"colorscale\":[[0.0,\"#0d0887\"],[0.1111111111111111,\"#46039f\"],[0.2222222222222222,\"#7201a8\"],[0.3333333333333333,\"#9c179e\"],[0.4444444444444444,\"#bd3786\"],[0.5555555555555556,\"#d8576b\"],[0.6666666666666666,\"#ed7953\"],[0.7777777777777778,\"#fb9f3a\"],[0.8888888888888888,\"#fdca26\"],[1.0,\"#f0f921\"]]}],\"surface\":[{\"type\":\"surface\",\"colorbar\":{\"outlinewidth\":0,\"ticks\":\"\"},\"colorscale\":[[0.0,\"#0d0887\"],[0.1111111111111111,\"#46039f\"],[0.2222222222222222,\"#7201a8\"],[0.3333333333333333,\"#9c179e\"],[0.4444444444444444,\"#bd3786\"],[0.5555555555555556,\"#d8576b\"],[0.6666666666666666,\"#ed7953\"],[0.7777777777777778,\"#fb9f3a\"],[0.8888888888888888,\"#fdca26\"],[1.0,\"#f0f921\"]]}],\"mesh3d\":[{\"type\":\"mesh3d\",\"colorbar\":{\"outlinewidth\":0,\"ticks\":\"\"}}],\"scatter\":[{\"fillpattern\":{\"fillmode\":\"overlay\",\"size\":10,\"solidity\":0.2},\"type\":\"scatter\"}],\"parcoords\":[{\"type\":\"parcoords\",\"line\":{\"colorbar\":{\"outlinewidth\":0,\"ticks\":\"\"}}}],\"scatterpolargl\":[{\"type\":\"scatterpolargl\",\"marker\":{\"colorbar\":{\"outlinewidth\":0,\"ticks\":\"\"}}}],\"bar\":[{\"error_x\":{\"color\":\"#2a3f5f\"},\"error_y\":{\"color\":\"#2a3f5f\"},\"marker\":{\"line\":{\"color\":\"#E5ECF6\",\"width\":0.5},\"pattern\":{\"fillmode\":\"overlay\",\"size\":10,\"solidity\":0.2}},\"type\":\"bar\"}],\"scattergeo\":[{\"type\":\"scattergeo\",\"marker\":{\"colorbar\":{\"outlinewidth\":0,\"ticks\":\"\"}}}],\"scatterpolar\":[{\"type\":\"scatterpolar\",\"marker\":{\"colorbar\":{\"outlinewidth\":0,\"ticks\":\"\"}}}],\"histogram\":[{\"marker\":{\"pattern\":{\"fillmode\":\"overlay\",\"size\":10,\"solidity\":0.2}},\"type\":\"histogram\"}],\"scattergl\":[{\"type\":\"scattergl\",\"marker\":{\"colorbar\":{\"outlinewidth\":0,\"ticks\":\"\"}}}],\"scatter3d\":[{\"type\":\"scatter3d\",\"line\":{\"colorbar\":{\"outlinewidth\":0,\"ticks\":\"\"}},\"marker\":{\"colorbar\":{\"outlinewidth\":0,\"ticks\":\"\"}}}],\"scattermapbox\":[{\"type\":\"scattermapbox\",\"marker\":{\"colorbar\":{\"outlinewidth\":0,\"ticks\":\"\"}}}],\"scatterternary\":[{\"type\":\"scatterternary\",\"marker\":{\"colorbar\":{\"outlinewidth\":0,\"ticks\":\"\"}}}],\"scattercarpet\":[{\"type\":\"scattercarpet\",\"marker\":{\"colorbar\":{\"outlinewidth\":0,\"ticks\":\"\"}}}],\"carpet\":[{\"aaxis\":{\"endlinecolor\":\"#2a3f5f\",\"gridcolor\":\"white\",\"linecolor\":\"white\",\"minorgridcolor\":\"white\",\"startlinecolor\":\"#2a3f5f\"},\"baxis\":{\"endlinecolor\":\"#2a3f5f\",\"gridcolor\":\"white\",\"linecolor\":\"white\",\"minorgridcolor\":\"white\",\"startlinecolor\":\"#2a3f5f\"},\"type\":\"carpet\"}],\"table\":[{\"cells\":{\"fill\":{\"color\":\"#EBF0F8\"},\"line\":{\"color\":\"white\"}},\"header\":{\"fill\":{\"color\":\"#C8D4E3\"},\"line\":{\"color\":\"white\"}},\"type\":\"table\"}],\"barpolar\":[{\"marker\":{\"line\":{\"color\":\"#E5ECF6\",\"width\":0.5},\"pattern\":{\"fillmode\":\"overlay\",\"size\":10,\"solidity\":0.2}},\"type\":\"barpolar\"}],\"pie\":[{\"automargin\":true,\"type\":\"pie\"}]},\"layout\":{\"autotypenumbers\":\"strict\",\"colorway\":[\"#636efa\",\"#EF553B\",\"#00cc96\",\"#ab63fa\",\"#FFA15A\",\"#19d3f3\",\"#FF6692\",\"#B6E880\",\"#FF97FF\",\"#FECB52\"],\"font\":{\"color\":\"#2a3f5f\"},\"hovermode\":\"closest\",\"hoverlabel\":{\"align\":\"left\"},\"paper_bgcolor\":\"white\",\"plot_bgcolor\":\"#E5ECF6\",\"polar\":{\"bgcolor\":\"#E5ECF6\",\"angularaxis\":{\"gridcolor\":\"white\",\"linecolor\":\"white\",\"ticks\":\"\"},\"radialaxis\":{\"gridcolor\":\"white\",\"linecolor\":\"white\",\"ticks\":\"\"}},\"ternary\":{\"bgcolor\":\"#E5ECF6\",\"aaxis\":{\"gridcolor\":\"white\",\"linecolor\":\"white\",\"ticks\":\"\"},\"baxis\":{\"gridcolor\":\"white\",\"linecolor\":\"white\",\"ticks\":\"\"},\"caxis\":{\"gridcolor\":\"white\",\"linecolor\":\"white\",\"ticks\":\"\"}},\"coloraxis\":{\"colorbar\":{\"outlinewidth\":0,\"ticks\":\"\"}},\"colorscale\":{\"sequential\":[[0.0,\"#0d0887\"],[0.1111111111111111,\"#46039f\"],[0.2222222222222222,\"#7201a8\"],[0.3333333333333333,\"#9c179e\"],[0.4444444444444444,\"#bd3786\"],[0.5555555555555556,\"#d8576b\"],[0.6666666666666666,\"#ed7953\"],[0.7777777777777778,\"#fb9f3a\"],[0.8888888888888888,\"#fdca26\"],[1.0,\"#f0f921\"]],\"sequentialminus\":[[0.0,\"#0d0887\"],[0.1111111111111111,\"#46039f\"],[0.2222222222222222,\"#7201a8\"],[0.3333333333333333,\"#9c179e\"],[0.4444444444444444,\"#bd3786\"],[0.5555555555555556,\"#d8576b\"],[0.6666666666666666,\"#ed7953\"],[0.7777777777777778,\"#fb9f3a\"],[0.8888888888888888,\"#fdca26\"],[1.0,\"#f0f921\"]],\"diverging\":[[0,\"#8e0152\"],[0.1,\"#c51b7d\"],[0.2,\"#de77ae\"],[0.3,\"#f1b6da\"],[0.4,\"#fde0ef\"],[0.5,\"#f7f7f7\"],[0.6,\"#e6f5d0\"],[0.7,\"#b8e186\"],[0.8,\"#7fbc41\"],[0.9,\"#4d9221\"],[1,\"#276419\"]]},\"xaxis\":{\"gridcolor\":\"white\",\"linecolor\":\"white\",\"ticks\":\"\",\"title\":{\"standoff\":15},\"zerolinecolor\":\"white\",\"automargin\":true,\"zerolinewidth\":2},\"yaxis\":{\"gridcolor\":\"white\",\"linecolor\":\"white\",\"ticks\":\"\",\"title\":{\"standoff\":15},\"zerolinecolor\":\"white\",\"automargin\":true,\"zerolinewidth\":2},\"scene\":{\"xaxis\":{\"backgroundcolor\":\"#E5ECF6\",\"gridcolor\":\"white\",\"linecolor\":\"white\",\"showbackground\":true,\"ticks\":\"\",\"zerolinecolor\":\"white\",\"gridwidth\":2},\"yaxis\":{\"backgroundcolor\":\"#E5ECF6\",\"gridcolor\":\"white\",\"linecolor\":\"white\",\"showbackground\":true,\"ticks\":\"\",\"zerolinecolor\":\"white\",\"gridwidth\":2},\"zaxis\":{\"backgroundcolor\":\"#E5ECF6\",\"gridcolor\":\"white\",\"linecolor\":\"white\",\"showbackground\":true,\"ticks\":\"\",\"zerolinecolor\":\"white\",\"gridwidth\":2}},\"shapedefaults\":{\"line\":{\"color\":\"#2a3f5f\"}},\"annotationdefaults\":{\"arrowcolor\":\"#2a3f5f\",\"arrowhead\":0,\"arrowwidth\":1},\"geo\":{\"bgcolor\":\"white\",\"landcolor\":\"#E5ECF6\",\"subunitcolor\":\"white\",\"showland\":true,\"showlakes\":true,\"lakecolor\":\"white\"},\"title\":{\"x\":0.05},\"mapbox\":{\"style\":\"light\"}}},\"xaxis\":{\"anchor\":\"y\",\"domain\":[0.0,1.0],\"title\":{\"text\":\"Hunger Index\"}},\"yaxis\":{\"anchor\":\"x\",\"domain\":[0.0,1.0],\"title\":{\"text\":\"Country\"}},\"coloraxis\":{\"colorbar\":{\"title\":{\"text\":\"Hunger Index\"}},\"colorscale\":[[0.0,\"rgb(196, 230, 195)\"],[0.16666666666666666,\"rgb(150, 210, 164)\"],[0.3333333333333333,\"rgb(109, 188, 144)\"],[0.5,\"rgb(77, 162, 132)\"],[0.6666666666666666,\"rgb(54, 135, 122)\"],[0.8333333333333334,\"rgb(38, 107, 110)\"],[1.0,\"rgb(29, 79, 96)\"]]},\"legend\":{\"tracegroupgap\":0},\"title\":{\"text\":\"Comparison of Hunger Levels of All Countries\"},\"barmode\":\"relative\",\"showlegend\":false},                        {\"responsive\": true}                    ).then(function(){\n",
              "                            \n",
              "var gd = document.getElementById('d4530ced-ba43-4720-b397-1e9d86af910c');\n",
              "var x = new MutationObserver(function (mutations, observer) {{\n",
              "        var display = window.getComputedStyle(gd).display;\n",
              "        if (!display || display === 'none') {{\n",
              "            console.log([gd, 'removed!']);\n",
              "            Plotly.purge(gd);\n",
              "            observer.disconnect();\n",
              "        }}\n",
              "}});\n",
              "\n",
              "// Listen for the removal of the full notebook cells\n",
              "var notebookContainer = gd.closest('#notebook-container');\n",
              "if (notebookContainer) {{\n",
              "    x.observe(notebookContainer, {childList: true});\n",
              "}}\n",
              "\n",
              "// Listen for the clearing of the current output cell\n",
              "var outputEl = gd.closest('.output');\n",
              "if (outputEl) {{\n",
              "    x.observe(outputEl, {childList: true});\n",
              "}}\n",
              "\n",
              "                        })                };                            </script>        </div>\n",
              "</body>\n",
              "</html>"
            ]
          },
          "metadata": {}
        },
        {
          "output_type": "stream",
          "name": "stdout",
          "text": [
            "Ranked Countries Based on Hunger Index:\n",
            "                    Country  2023   Rank\n",
            "1      Central African Rep.  42.3    1.0\n",
            "2                Madagascar  41.0    2.0\n",
            "3                     Yemen  39.9    3.0\n",
            "4    Dem. Rep. of the Congo  35.7    4.0\n",
            "5                   Lesotho  35.5    5.0\n",
            "..                      ...   ...    ...\n",
            "111                   Chile   3.0  106.5\n",
            "112                 Romania   3.0  106.5\n",
            "113         Slovak Republic   3.0  106.5\n",
            "114    Bosnia & Herzegovina   3.0  106.5\n",
            "115                  Kuwait   3.0  106.5\n",
            "\n",
            "[115 rows x 3 columns]\n"
          ]
        }
      ],
      "source": [
        "import pandas as pd\n",
        "import numpy as np\n",
        "import matplotlib.pyplot as plt\n",
        "import plotly.graph_objects as go\n",
        "import plotly.express as px\n",
        "\n",
        "# Load the dataset with specified encoding\n",
        "df = pd.read_csv('/content/more_years.csv', encoding='ISO-8859-1')\n",
        "\n",
        "# Convert numeric columns to the appropriate data type\n",
        "df['2007'] = pd.to_numeric(df['2007'], errors='coerce')\n",
        "df['2008'] = pd.to_numeric(df['2008'], errors='coerce')\n",
        "df['2014'] = pd.to_numeric(df['2014'], errors='coerce')\n",
        "df['2015'] = pd.to_numeric(df['2015'], errors='coerce')\n",
        "df['2022'] = pd.to_numeric(df['2022'], errors='coerce')\n",
        "df['2023'] = pd.to_numeric(df['2023'], errors='coerce')\n",
        "\n",
        "# Filter the DataFrame for the selected countries\n",
        "selected_countries = df.copy()\n",
        "\n",
        "# Convert the columns to numeric data types\n",
        "selected_countries[['2007', '2008', '2014', '2015', '2022', '2023']] = selected_countries[['2007', '2008', '2014', '2015', '2022', '2023']].apply(pd.to_numeric, errors='coerce')\n",
        "\n",
        "# Sorting countries based on the latest hunger index (2023)\n",
        "sorted_countries = selected_countries.sort_values('2023', ascending=False)\n",
        "\n",
        "# Creating the horizontal bar chart with custom colors\n",
        "fig = px.bar(sorted_countries, y='Country', x='2023', orientation='h',\n",
        "             labels={'2023': 'Hunger Index'}, title='Comparison of Hunger Levels of All Countries',\n",
        "             color='2023', color_continuous_scale='blugrn')\n",
        "fig.update_layout(showlegend=False)\n",
        "\n",
        "fig.show()\n",
        "\n",
        "# Creating a table ranking countries based on the hunger index\n",
        "ranked_countries = sorted_countries[['Country', '2023']].copy()\n",
        "ranked_countries['Rank'] = ranked_countries['2023'].rank(ascending=False)\n",
        "ranked_countries = ranked_countries.sort_values('Rank')\n",
        "ranked_countries.reset_index(drop=True, inplace=True)\n",
        "ranked_countries.index += 1  # Start rank from 1 instead of 0\n",
        "\n",
        "print(\"Ranked Countries Based on Hunger Index:\")\n",
        "print(ranked_countries)\n"
      ]
    },
    {
      "cell_type": "markdown",
      "source": [
        "2nd Analysis :- Trend of Global Hunger Index for Selected Countries(Atleast one from each continent\n",
        ")"
      ],
      "metadata": {
        "id": "S9zeX6cR5n02"
      }
    },
    {
      "cell_type": "code",
      "source": [
        "import pandas as pd\n",
        "import numpy as np\n",
        "import matplotlib.pyplot as plt\n",
        "import plotly.graph_objects as go\n",
        "import plotly.express as px\n",
        "\n",
        "# Load the dataset with specified encoding\n",
        "df = pd.read_csv('/content/more_years.csv', encoding='ISO-8859-1')\n",
        "\n",
        "# Convert numeric columns to the appropriate data type\n",
        "df['2007'] = pd.to_numeric(df['2007'], errors='coerce')\n",
        "df['2008'] = pd.to_numeric(df['2008'], errors='coerce')\n",
        "df['2014'] = pd.to_numeric(df['2014'], errors='coerce')\n",
        "df['2015'] = pd.to_numeric(df['2015'], errors='coerce')\n",
        "df['2022'] = pd.to_numeric(df['2022'], errors='coerce')\n",
        "df['2023'] = pd.to_numeric(df['2023'], errors='coerce')\n",
        "\n",
        "# Filter the DataFrame for the selected countries\n",
        "selected_countries = df.copy()\n",
        "\n",
        "# Convert the columns to numeric data types\n",
        "selected_countries[['2007', '2008', '2014', '2015', '2022', '2023']] = selected_countries[['2007', '2008', '2014', '2015', '2022', '2023']].apply(pd.to_numeric, errors='coerce')\n",
        "\n",
        "# Select specific countries\n",
        "countries_of_interest = ['China', 'India', 'Egypt', 'Chad', 'Nigeria', 'Afghanistan', 'Korea (DPR)', 'Lithuania', 'Brazil', 'Fiji','Mexico']\n",
        "selected_countries = selected_countries[selected_countries['Country'].isin(countries_of_interest)]\n",
        "\n",
        "# Create traces for each selected country with a color scale\n",
        "data = []\n",
        "for index, row in selected_countries.iterrows():\n",
        "    years = row.index[2:]  # Extract years from column names\n",
        "    gh_index = row.values[2:]\n",
        "    trace = go.Scatter(x=years, y=gh_index, name=row['Country'])\n",
        "    data.append(trace)\n",
        "\n",
        "# Creating layout\n",
        "layout = go.Layout(\n",
        "    title='Trend of Global Hunger Index for Selected Countries',\n",
        "    xaxis=dict(title='Year'),\n",
        "    yaxis=dict(title='Global Hunger Index')\n",
        ")\n",
        "\n",
        "# Creating figure and plotting\n",
        "fig = go.Figure(data=data, layout=layout)\n",
        "fig.update_traces(marker=dict(color=px.colors.qualitative.Light24))  # Set color scale for countries\n",
        "fig.show()\n"
      ],
      "metadata": {
        "id": "Vx7wSSDAxz_p",
        "outputId": "6539e66b-1db5-4ac2-acb7-2d734350ed94",
        "colab": {
          "base_uri": "https://localhost:8080/",
          "height": 542
        }
      },
      "execution_count": 5,
      "outputs": [
        {
          "output_type": "display_data",
          "data": {
            "text/html": [
              "<html>\n",
              "<head><meta charset=\"utf-8\" /></head>\n",
              "<body>\n",
              "    <div>            <script src=\"https://cdnjs.cloudflare.com/ajax/libs/mathjax/2.7.5/MathJax.js?config=TeX-AMS-MML_SVG\"></script><script type=\"text/javascript\">if (window.MathJax && window.MathJax.Hub && window.MathJax.Hub.Config) {window.MathJax.Hub.Config({SVG: {font: \"STIX-Web\"}});}</script>                <script type=\"text/javascript\">window.PlotlyConfig = {MathJaxConfig: 'local'};</script>\n",
              "        <script charset=\"utf-8\" src=\"https://cdn.plot.ly/plotly-2.24.1.min.js\"></script>                <div id=\"7ccb8406-71c4-43da-92a1-067959f8bf8d\" class=\"plotly-graph-div\" style=\"height:525px; width:100%;\"></div>            <script type=\"text/javascript\">                                    window.PLOTLYENV=window.PLOTLYENV || {};                                    if (document.getElementById(\"7ccb8406-71c4-43da-92a1-067959f8bf8d\")) {                    Plotly.newPlot(                        \"7ccb8406-71c4-43da-92a1-067959f8bf8d\",                        [{\"name\":\"Afghanistan\",\"x\":[\"2008\",\"2014\",\"2015\",\"2022\",\"2023\"],\"y\":[36.5,30.6,30.4,29.9,30.6],\"type\":\"scatter\",\"marker\":{\"color\":[\"#FD3216\",\"#00FE35\",\"#6A76FC\",\"#FED4C4\",\"#FE00CE\",\"#0DF9FF\",\"#F6F926\",\"#FF9616\",\"#479B55\",\"#EEA6FB\",\"#DC587D\",\"#D626FF\",\"#6E899C\",\"#00B5F7\",\"#B68E00\",\"#C9FBE5\",\"#FF0092\",\"#22FFA7\",\"#E3EE9E\",\"#86CE00\",\"#BC7196\",\"#7E7DCD\",\"#FC6955\",\"#E48F72\"]}},{\"name\":\"Brazil\",\"x\":[\"2008\",\"2014\",\"2015\",\"2022\",\"2023\"],\"y\":[6.8,5.0,5.4,5.4,6.7],\"type\":\"scatter\",\"marker\":{\"color\":[\"#FD3216\",\"#00FE35\",\"#6A76FC\",\"#FED4C4\",\"#FE00CE\",\"#0DF9FF\",\"#F6F926\",\"#FF9616\",\"#479B55\",\"#EEA6FB\",\"#DC587D\",\"#D626FF\",\"#6E899C\",\"#00B5F7\",\"#B68E00\",\"#C9FBE5\",\"#FF0092\",\"#22FFA7\",\"#E3EE9E\",\"#86CE00\",\"#BC7196\",\"#7E7DCD\",\"#FC6955\",\"#E48F72\"]}},{\"name\":\"Chad\",\"x\":[\"2008\",\"2014\",\"2015\",\"2022\",\"2023\"],\"y\":[49.9,40.7,40.1,37.2,34.6],\"type\":\"scatter\",\"marker\":{\"color\":[\"#FD3216\",\"#00FE35\",\"#6A76FC\",\"#FED4C4\",\"#FE00CE\",\"#0DF9FF\",\"#F6F926\",\"#FF9616\",\"#479B55\",\"#EEA6FB\",\"#DC587D\",\"#D626FF\",\"#6E899C\",\"#00B5F7\",\"#B68E00\",\"#C9FBE5\",\"#FF0092\",\"#22FFA7\",\"#E3EE9E\",\"#86CE00\",\"#BC7196\",\"#7E7DCD\",\"#FC6955\",\"#E48F72\"]}},{\"name\":\"China\",\"x\":[\"2008\",\"2014\",\"2015\",\"2022\",\"2023\"],\"y\":[7.1,3.0,3.0,3.0,3.0],\"type\":\"scatter\",\"marker\":{\"color\":[\"#FD3216\",\"#00FE35\",\"#6A76FC\",\"#FED4C4\",\"#FE00CE\",\"#0DF9FF\",\"#F6F926\",\"#FF9616\",\"#479B55\",\"#EEA6FB\",\"#DC587D\",\"#D626FF\",\"#6E899C\",\"#00B5F7\",\"#B68E00\",\"#C9FBE5\",\"#FF0092\",\"#22FFA7\",\"#E3EE9E\",\"#86CE00\",\"#BC7196\",\"#7E7DCD\",\"#FC6955\",\"#E48F72\"]}},{\"name\":\"Egypt\",\"x\":[\"2008\",\"2014\",\"2015\",\"2022\",\"2023\"],\"y\":[16.9,14.6,15.2,12.3,12.8],\"type\":\"scatter\",\"marker\":{\"color\":[\"#FD3216\",\"#00FE35\",\"#6A76FC\",\"#FED4C4\",\"#FE00CE\",\"#0DF9FF\",\"#F6F926\",\"#FF9616\",\"#479B55\",\"#EEA6FB\",\"#DC587D\",\"#D626FF\",\"#6E899C\",\"#00B5F7\",\"#B68E00\",\"#C9FBE5\",\"#FF0092\",\"#22FFA7\",\"#E3EE9E\",\"#86CE00\",\"#BC7196\",\"#7E7DCD\",\"#FC6955\",\"#E48F72\"]}},{\"name\":\"Fiji\",\"x\":[\"2008\",\"2014\",\"2015\",\"2022\",\"2023\"],\"y\":[8.6,9.3,10.4,9.2,9.7],\"type\":\"scatter\",\"marker\":{\"color\":[\"#FD3216\",\"#00FE35\",\"#6A76FC\",\"#FED4C4\",\"#FE00CE\",\"#0DF9FF\",\"#F6F926\",\"#FF9616\",\"#479B55\",\"#EEA6FB\",\"#DC587D\",\"#D626FF\",\"#6E899C\",\"#00B5F7\",\"#B68E00\",\"#C9FBE5\",\"#FF0092\",\"#22FFA7\",\"#E3EE9E\",\"#86CE00\",\"#BC7196\",\"#7E7DCD\",\"#FC6955\",\"#E48F72\"]}},{\"name\":\"India\",\"x\":[\"2008\",\"2014\",\"2015\",\"2022\",\"2023\"],\"y\":[35.5,28.2,29.2,29.1,28.7],\"type\":\"scatter\",\"marker\":{\"color\":[\"#FD3216\",\"#00FE35\",\"#6A76FC\",\"#FED4C4\",\"#FE00CE\",\"#0DF9FF\",\"#F6F926\",\"#FF9616\",\"#479B55\",\"#EEA6FB\",\"#DC587D\",\"#D626FF\",\"#6E899C\",\"#00B5F7\",\"#B68E00\",\"#C9FBE5\",\"#FF0092\",\"#22FFA7\",\"#E3EE9E\",\"#86CE00\",\"#BC7196\",\"#7E7DCD\",\"#FC6955\",\"#E48F72\"]}},{\"name\":\"Korea (DPR)\",\"x\":[\"2008\",\"2014\",\"2015\",\"2022\",\"2023\"],\"y\":[30.4,27.5,24.8,24.9,27.8],\"type\":\"scatter\",\"marker\":{\"color\":[\"#FD3216\",\"#00FE35\",\"#6A76FC\",\"#FED4C4\",\"#FE00CE\",\"#0DF9FF\",\"#F6F926\",\"#FF9616\",\"#479B55\",\"#EEA6FB\",\"#DC587D\",\"#D626FF\",\"#6E899C\",\"#00B5F7\",\"#B68E00\",\"#C9FBE5\",\"#FF0092\",\"#22FFA7\",\"#E3EE9E\",\"#86CE00\",\"#BC7196\",\"#7E7DCD\",\"#FC6955\",\"#E48F72\"]}},{\"name\":\"Lithuania\",\"x\":[\"2008\",\"2014\",\"2015\",\"2022\",\"2023\"],\"y\":[5.1,3.0,3.0,3.0,3.0],\"type\":\"scatter\",\"marker\":{\"color\":[\"#FD3216\",\"#00FE35\",\"#6A76FC\",\"#FED4C4\",\"#FE00CE\",\"#0DF9FF\",\"#F6F926\",\"#FF9616\",\"#479B55\",\"#EEA6FB\",\"#DC587D\",\"#D626FF\",\"#6E899C\",\"#00B5F7\",\"#B68E00\",\"#C9FBE5\",\"#FF0092\",\"#22FFA7\",\"#E3EE9E\",\"#86CE00\",\"#BC7196\",\"#7E7DCD\",\"#FC6955\",\"#E48F72\"]}},{\"name\":\"Mexico\",\"x\":[\"2008\",\"2014\",\"2015\",\"2022\",\"2023\"],\"y\":[9.9,7.0,6.7,8.1,6.0],\"type\":\"scatter\",\"marker\":{\"color\":[\"#FD3216\",\"#00FE35\",\"#6A76FC\",\"#FED4C4\",\"#FE00CE\",\"#0DF9FF\",\"#F6F926\",\"#FF9616\",\"#479B55\",\"#EEA6FB\",\"#DC587D\",\"#D626FF\",\"#6E899C\",\"#00B5F7\",\"#B68E00\",\"#C9FBE5\",\"#FF0092\",\"#22FFA7\",\"#E3EE9E\",\"#86CE00\",\"#BC7196\",\"#7E7DCD\",\"#FC6955\",\"#E48F72\"]}},{\"name\":\"Nigeria\",\"x\":[\"2008\",\"2014\",\"2015\",\"2022\",\"2023\"],\"y\":[31.2,28.4,27.8,27.3,28.3],\"type\":\"scatter\",\"marker\":{\"color\":[\"#FD3216\",\"#00FE35\",\"#6A76FC\",\"#FED4C4\",\"#FE00CE\",\"#0DF9FF\",\"#F6F926\",\"#FF9616\",\"#479B55\",\"#EEA6FB\",\"#DC587D\",\"#D626FF\",\"#6E899C\",\"#00B5F7\",\"#B68E00\",\"#C9FBE5\",\"#FF0092\",\"#22FFA7\",\"#E3EE9E\",\"#86CE00\",\"#BC7196\",\"#7E7DCD\",\"#FC6955\",\"#E48F72\"]}}],                        {\"title\":{\"text\":\"Trend of Global Hunger Index for Selected Countries\"},\"xaxis\":{\"title\":{\"text\":\"Year\"}},\"yaxis\":{\"title\":{\"text\":\"Global Hunger Index\"}},\"template\":{\"data\":{\"histogram2dcontour\":[{\"type\":\"histogram2dcontour\",\"colorbar\":{\"outlinewidth\":0,\"ticks\":\"\"},\"colorscale\":[[0.0,\"#0d0887\"],[0.1111111111111111,\"#46039f\"],[0.2222222222222222,\"#7201a8\"],[0.3333333333333333,\"#9c179e\"],[0.4444444444444444,\"#bd3786\"],[0.5555555555555556,\"#d8576b\"],[0.6666666666666666,\"#ed7953\"],[0.7777777777777778,\"#fb9f3a\"],[0.8888888888888888,\"#fdca26\"],[1.0,\"#f0f921\"]]}],\"choropleth\":[{\"type\":\"choropleth\",\"colorbar\":{\"outlinewidth\":0,\"ticks\":\"\"}}],\"histogram2d\":[{\"type\":\"histogram2d\",\"colorbar\":{\"outlinewidth\":0,\"ticks\":\"\"},\"colorscale\":[[0.0,\"#0d0887\"],[0.1111111111111111,\"#46039f\"],[0.2222222222222222,\"#7201a8\"],[0.3333333333333333,\"#9c179e\"],[0.4444444444444444,\"#bd3786\"],[0.5555555555555556,\"#d8576b\"],[0.6666666666666666,\"#ed7953\"],[0.7777777777777778,\"#fb9f3a\"],[0.8888888888888888,\"#fdca26\"],[1.0,\"#f0f921\"]]}],\"heatmap\":[{\"type\":\"heatmap\",\"colorbar\":{\"outlinewidth\":0,\"ticks\":\"\"},\"colorscale\":[[0.0,\"#0d0887\"],[0.1111111111111111,\"#46039f\"],[0.2222222222222222,\"#7201a8\"],[0.3333333333333333,\"#9c179e\"],[0.4444444444444444,\"#bd3786\"],[0.5555555555555556,\"#d8576b\"],[0.6666666666666666,\"#ed7953\"],[0.7777777777777778,\"#fb9f3a\"],[0.8888888888888888,\"#fdca26\"],[1.0,\"#f0f921\"]]}],\"heatmapgl\":[{\"type\":\"heatmapgl\",\"colorbar\":{\"outlinewidth\":0,\"ticks\":\"\"},\"colorscale\":[[0.0,\"#0d0887\"],[0.1111111111111111,\"#46039f\"],[0.2222222222222222,\"#7201a8\"],[0.3333333333333333,\"#9c179e\"],[0.4444444444444444,\"#bd3786\"],[0.5555555555555556,\"#d8576b\"],[0.6666666666666666,\"#ed7953\"],[0.7777777777777778,\"#fb9f3a\"],[0.8888888888888888,\"#fdca26\"],[1.0,\"#f0f921\"]]}],\"contourcarpet\":[{\"type\":\"contourcarpet\",\"colorbar\":{\"outlinewidth\":0,\"ticks\":\"\"}}],\"contour\":[{\"type\":\"contour\",\"colorbar\":{\"outlinewidth\":0,\"ticks\":\"\"},\"colorscale\":[[0.0,\"#0d0887\"],[0.1111111111111111,\"#46039f\"],[0.2222222222222222,\"#7201a8\"],[0.3333333333333333,\"#9c179e\"],[0.4444444444444444,\"#bd3786\"],[0.5555555555555556,\"#d8576b\"],[0.6666666666666666,\"#ed7953\"],[0.7777777777777778,\"#fb9f3a\"],[0.8888888888888888,\"#fdca26\"],[1.0,\"#f0f921\"]]}],\"surface\":[{\"type\":\"surface\",\"colorbar\":{\"outlinewidth\":0,\"ticks\":\"\"},\"colorscale\":[[0.0,\"#0d0887\"],[0.1111111111111111,\"#46039f\"],[0.2222222222222222,\"#7201a8\"],[0.3333333333333333,\"#9c179e\"],[0.4444444444444444,\"#bd3786\"],[0.5555555555555556,\"#d8576b\"],[0.6666666666666666,\"#ed7953\"],[0.7777777777777778,\"#fb9f3a\"],[0.8888888888888888,\"#fdca26\"],[1.0,\"#f0f921\"]]}],\"mesh3d\":[{\"type\":\"mesh3d\",\"colorbar\":{\"outlinewidth\":0,\"ticks\":\"\"}}],\"scatter\":[{\"fillpattern\":{\"fillmode\":\"overlay\",\"size\":10,\"solidity\":0.2},\"type\":\"scatter\"}],\"parcoords\":[{\"type\":\"parcoords\",\"line\":{\"colorbar\":{\"outlinewidth\":0,\"ticks\":\"\"}}}],\"scatterpolargl\":[{\"type\":\"scatterpolargl\",\"marker\":{\"colorbar\":{\"outlinewidth\":0,\"ticks\":\"\"}}}],\"bar\":[{\"error_x\":{\"color\":\"#2a3f5f\"},\"error_y\":{\"color\":\"#2a3f5f\"},\"marker\":{\"line\":{\"color\":\"#E5ECF6\",\"width\":0.5},\"pattern\":{\"fillmode\":\"overlay\",\"size\":10,\"solidity\":0.2}},\"type\":\"bar\"}],\"scattergeo\":[{\"type\":\"scattergeo\",\"marker\":{\"colorbar\":{\"outlinewidth\":0,\"ticks\":\"\"}}}],\"scatterpolar\":[{\"type\":\"scatterpolar\",\"marker\":{\"colorbar\":{\"outlinewidth\":0,\"ticks\":\"\"}}}],\"histogram\":[{\"marker\":{\"pattern\":{\"fillmode\":\"overlay\",\"size\":10,\"solidity\":0.2}},\"type\":\"histogram\"}],\"scattergl\":[{\"type\":\"scattergl\",\"marker\":{\"colorbar\":{\"outlinewidth\":0,\"ticks\":\"\"}}}],\"scatter3d\":[{\"type\":\"scatter3d\",\"line\":{\"colorbar\":{\"outlinewidth\":0,\"ticks\":\"\"}},\"marker\":{\"colorbar\":{\"outlinewidth\":0,\"ticks\":\"\"}}}],\"scattermapbox\":[{\"type\":\"scattermapbox\",\"marker\":{\"colorbar\":{\"outlinewidth\":0,\"ticks\":\"\"}}}],\"scatterternary\":[{\"type\":\"scatterternary\",\"marker\":{\"colorbar\":{\"outlinewidth\":0,\"ticks\":\"\"}}}],\"scattercarpet\":[{\"type\":\"scattercarpet\",\"marker\":{\"colorbar\":{\"outlinewidth\":0,\"ticks\":\"\"}}}],\"carpet\":[{\"aaxis\":{\"endlinecolor\":\"#2a3f5f\",\"gridcolor\":\"white\",\"linecolor\":\"white\",\"minorgridcolor\":\"white\",\"startlinecolor\":\"#2a3f5f\"},\"baxis\":{\"endlinecolor\":\"#2a3f5f\",\"gridcolor\":\"white\",\"linecolor\":\"white\",\"minorgridcolor\":\"white\",\"startlinecolor\":\"#2a3f5f\"},\"type\":\"carpet\"}],\"table\":[{\"cells\":{\"fill\":{\"color\":\"#EBF0F8\"},\"line\":{\"color\":\"white\"}},\"header\":{\"fill\":{\"color\":\"#C8D4E3\"},\"line\":{\"color\":\"white\"}},\"type\":\"table\"}],\"barpolar\":[{\"marker\":{\"line\":{\"color\":\"#E5ECF6\",\"width\":0.5},\"pattern\":{\"fillmode\":\"overlay\",\"size\":10,\"solidity\":0.2}},\"type\":\"barpolar\"}],\"pie\":[{\"automargin\":true,\"type\":\"pie\"}]},\"layout\":{\"autotypenumbers\":\"strict\",\"colorway\":[\"#636efa\",\"#EF553B\",\"#00cc96\",\"#ab63fa\",\"#FFA15A\",\"#19d3f3\",\"#FF6692\",\"#B6E880\",\"#FF97FF\",\"#FECB52\"],\"font\":{\"color\":\"#2a3f5f\"},\"hovermode\":\"closest\",\"hoverlabel\":{\"align\":\"left\"},\"paper_bgcolor\":\"white\",\"plot_bgcolor\":\"#E5ECF6\",\"polar\":{\"bgcolor\":\"#E5ECF6\",\"angularaxis\":{\"gridcolor\":\"white\",\"linecolor\":\"white\",\"ticks\":\"\"},\"radialaxis\":{\"gridcolor\":\"white\",\"linecolor\":\"white\",\"ticks\":\"\"}},\"ternary\":{\"bgcolor\":\"#E5ECF6\",\"aaxis\":{\"gridcolor\":\"white\",\"linecolor\":\"white\",\"ticks\":\"\"},\"baxis\":{\"gridcolor\":\"white\",\"linecolor\":\"white\",\"ticks\":\"\"},\"caxis\":{\"gridcolor\":\"white\",\"linecolor\":\"white\",\"ticks\":\"\"}},\"coloraxis\":{\"colorbar\":{\"outlinewidth\":0,\"ticks\":\"\"}},\"colorscale\":{\"sequential\":[[0.0,\"#0d0887\"],[0.1111111111111111,\"#46039f\"],[0.2222222222222222,\"#7201a8\"],[0.3333333333333333,\"#9c179e\"],[0.4444444444444444,\"#bd3786\"],[0.5555555555555556,\"#d8576b\"],[0.6666666666666666,\"#ed7953\"],[0.7777777777777778,\"#fb9f3a\"],[0.8888888888888888,\"#fdca26\"],[1.0,\"#f0f921\"]],\"sequentialminus\":[[0.0,\"#0d0887\"],[0.1111111111111111,\"#46039f\"],[0.2222222222222222,\"#7201a8\"],[0.3333333333333333,\"#9c179e\"],[0.4444444444444444,\"#bd3786\"],[0.5555555555555556,\"#d8576b\"],[0.6666666666666666,\"#ed7953\"],[0.7777777777777778,\"#fb9f3a\"],[0.8888888888888888,\"#fdca26\"],[1.0,\"#f0f921\"]],\"diverging\":[[0,\"#8e0152\"],[0.1,\"#c51b7d\"],[0.2,\"#de77ae\"],[0.3,\"#f1b6da\"],[0.4,\"#fde0ef\"],[0.5,\"#f7f7f7\"],[0.6,\"#e6f5d0\"],[0.7,\"#b8e186\"],[0.8,\"#7fbc41\"],[0.9,\"#4d9221\"],[1,\"#276419\"]]},\"xaxis\":{\"gridcolor\":\"white\",\"linecolor\":\"white\",\"ticks\":\"\",\"title\":{\"standoff\":15},\"zerolinecolor\":\"white\",\"automargin\":true,\"zerolinewidth\":2},\"yaxis\":{\"gridcolor\":\"white\",\"linecolor\":\"white\",\"ticks\":\"\",\"title\":{\"standoff\":15},\"zerolinecolor\":\"white\",\"automargin\":true,\"zerolinewidth\":2},\"scene\":{\"xaxis\":{\"backgroundcolor\":\"#E5ECF6\",\"gridcolor\":\"white\",\"linecolor\":\"white\",\"showbackground\":true,\"ticks\":\"\",\"zerolinecolor\":\"white\",\"gridwidth\":2},\"yaxis\":{\"backgroundcolor\":\"#E5ECF6\",\"gridcolor\":\"white\",\"linecolor\":\"white\",\"showbackground\":true,\"ticks\":\"\",\"zerolinecolor\":\"white\",\"gridwidth\":2},\"zaxis\":{\"backgroundcolor\":\"#E5ECF6\",\"gridcolor\":\"white\",\"linecolor\":\"white\",\"showbackground\":true,\"ticks\":\"\",\"zerolinecolor\":\"white\",\"gridwidth\":2}},\"shapedefaults\":{\"line\":{\"color\":\"#2a3f5f\"}},\"annotationdefaults\":{\"arrowcolor\":\"#2a3f5f\",\"arrowhead\":0,\"arrowwidth\":1},\"geo\":{\"bgcolor\":\"white\",\"landcolor\":\"#E5ECF6\",\"subunitcolor\":\"white\",\"showland\":true,\"showlakes\":true,\"lakecolor\":\"white\"},\"title\":{\"x\":0.05},\"mapbox\":{\"style\":\"light\"}}}},                        {\"responsive\": true}                    ).then(function(){\n",
              "                            \n",
              "var gd = document.getElementById('7ccb8406-71c4-43da-92a1-067959f8bf8d');\n",
              "var x = new MutationObserver(function (mutations, observer) {{\n",
              "        var display = window.getComputedStyle(gd).display;\n",
              "        if (!display || display === 'none') {{\n",
              "            console.log([gd, 'removed!']);\n",
              "            Plotly.purge(gd);\n",
              "            observer.disconnect();\n",
              "        }}\n",
              "}});\n",
              "\n",
              "// Listen for the removal of the full notebook cells\n",
              "var notebookContainer = gd.closest('#notebook-container');\n",
              "if (notebookContainer) {{\n",
              "    x.observe(notebookContainer, {childList: true});\n",
              "}}\n",
              "\n",
              "// Listen for the clearing of the current output cell\n",
              "var outputEl = gd.closest('.output');\n",
              "if (outputEl) {{\n",
              "    x.observe(outputEl, {childList: true});\n",
              "}}\n",
              "\n",
              "                        })                };                            </script>        </div>\n",
              "</body>\n",
              "</html>"
            ]
          },
          "metadata": {}
        }
      ]
    },
    {
      "cell_type": "code",
      "source": [
        "import pandas as pd\n",
        "import numpy as np\n",
        "import matplotlib.pyplot as plt\n",
        "import plotly.graph_objects as go\n",
        "import plotly.express as px\n",
        "\n",
        "# Load the dataset with specified encoding\n",
        "df = pd.read_csv('/content/more_years.csv', encoding='ISO-8859-1')\n",
        "\n",
        "# Convert numeric columns to the appropriate data type\n",
        "df['2007'] = pd.to_numeric(df['2007'], errors='coerce')\n",
        "df['2008'] = pd.to_numeric(df['2008'], errors='coerce')\n",
        "df['2014'] = pd.to_numeric(df['2014'], errors='coerce')\n",
        "df['2015'] = pd.to_numeric(df['2015'], errors='coerce')\n",
        "df['2022'] = pd.to_numeric(df['2022'], errors='coerce')\n",
        "df['2023'] = pd.to_numeric(df['2023'], errors='coerce')\n",
        "\n",
        "# Filter the DataFrame for the selected countries\n",
        "selected_countries = df.copy()\n",
        "\n",
        "# Convert the columns to numeric data types\n",
        "selected_countries[['2007', '2008', '2014', '2015', '2022', '2023']] = selected_countries[['2007', '2008', '2014', '2015', '2022', '2023']].apply(pd.to_numeric, errors='coerce')\n",
        "\n",
        "# Calculate absolute change for each country\n",
        "selected_countries['Absolute Change'] = selected_countries['2023'] - selected_countries['2007']\n",
        "\n",
        "# Sorting countries based on absolute change\n",
        "sorted_countries = selected_countries.sort_values('Absolute Change', ascending=False)\n",
        "\n",
        "# Create a column indicating whether the change is positive, negative or zero\n",
        "sorted_countries['Change Direction'] = np.where(sorted_countries['Absolute Change'] > 0, 'Increase',\n",
        "                                                np.where(sorted_countries['Absolute Change'] < 0, 'Decrease', 'No Change'))\n",
        "\n",
        "# Create bar plot for absolute change\n",
        "fig = px.bar(sorted_countries, x='Country', y='Absolute Change',\n",
        "             color='Change Direction',\n",
        "             color_discrete_map={'Increase': 'blue', 'Decrease': 'red', 'No Change': 'grey'},  # Set colors for each change direction\n",
        "             labels={'Absolute Change': 'Absolute Change in Hunger Index', 'Change Direction': 'Change Direction'},\n",
        "             title='Absolute Change in Global Hunger Index for All Countries')\n",
        "\n",
        "# Add annotations for countries with no change\n",
        "no_change_countries = sorted_countries[sorted_countries['Change Direction'] == 'No Change']\n",
        "for index, row in no_change_countries.iterrows():\n",
        "    fig.add_annotation(x=row['Country'], y=row['Absolute Change'], showarrow=True, arrowhead=1, ax=0, ay=-40)\n",
        "\n",
        "fig.update_layout(xaxis_title='Country', yaxis_title='Absolute Change in Hunger Index')\n",
        "fig.show()\n"
      ],
      "metadata": {
        "id": "upDpskXg2O3W",
        "outputId": "0bec3c24-4b75-46ed-cc99-ac65fb13887b",
        "colab": {
          "base_uri": "https://localhost:8080/",
          "height": 542
        }
      },
      "execution_count": 6,
      "outputs": [
        {
          "output_type": "display_data",
          "data": {
            "text/html": [
              "<html>\n",
              "<head><meta charset=\"utf-8\" /></head>\n",
              "<body>\n",
              "    <div>            <script src=\"https://cdnjs.cloudflare.com/ajax/libs/mathjax/2.7.5/MathJax.js?config=TeX-AMS-MML_SVG\"></script><script type=\"text/javascript\">if (window.MathJax && window.MathJax.Hub && window.MathJax.Hub.Config) {window.MathJax.Hub.Config({SVG: {font: \"STIX-Web\"}});}</script>                <script type=\"text/javascript\">window.PlotlyConfig = {MathJaxConfig: 'local'};</script>\n",
              "        <script charset=\"utf-8\" src=\"https://cdn.plot.ly/plotly-2.24.1.min.js\"></script>                <div id=\"f4cff0b0-3e5e-4fd5-bfa3-3a5cf6d0dc42\" class=\"plotly-graph-div\" style=\"height:525px; width:100%;\"></div>            <script type=\"text/javascript\">                                    window.PLOTLYENV=window.PLOTLYENV || {};                                    if (document.getElementById(\"f4cff0b0-3e5e-4fd5-bfa3-3a5cf6d0dc42\")) {                    Plotly.newPlot(                        \"f4cff0b0-3e5e-4fd5-bfa3-3a5cf6d0dc42\",                        [{\"alignmentgroup\":\"True\",\"hovertemplate\":\"Change Direction=Increase\\u003cbr\\u003eCountry=%{x}\\u003cbr\\u003eAbsolute Change in Hunger Index=%{y}\\u003cextra\\u003e\\u003c\\u002fextra\\u003e\",\"legendgroup\":\"Increase\",\"marker\":{\"color\":\"blue\",\"pattern\":{\"shape\":\"\"}},\"name\":\"Increase\",\"offsetgroup\":\"Increase\",\"orientation\":\"v\",\"showlegend\":true,\"textposition\":\"auto\",\"x\":[\"Croatia\",\"Venezuela (Bolivarian Republic of)\",\"Lesotho\",\"T\\u00c3\\u00bcrkiye\",\"Madagascar\",\"Costa Rica\",\"Guinea-Bissau\",\"Yemen\",\"Solomon Islands\",\"Fiji\",\"Ukraine\",\"Argentina\",\"Cabo Verde\",\"Trinidad & Tobago\"],\"xaxis\":\"x\",\"y\":[17.6,7.200000000000001,6.399999999999999,4.500000000000001,3.799999999999997,2.0999999999999996,2.0,1.5,1.5,1.1999999999999993,0.9999999999999991,0.9000000000000004,0.5,0.10000000000000142],\"yaxis\":\"y\",\"type\":\"bar\"},{\"alignmentgroup\":\"True\",\"hovertemplate\":\"Change Direction=No Change\\u003cbr\\u003eCountry=%{x}\\u003cbr\\u003eAbsolute Change in Hunger Index=%{y}\\u003cextra\\u003e\\u003c\\u002fextra\\u003e\",\"legendgroup\":\"No Change\",\"marker\":{\"color\":\"grey\",\"pattern\":{\"shape\":\"\"}},\"name\":\"No Change\",\"offsetgroup\":\"No Change\",\"orientation\":\"v\",\"showlegend\":true,\"textposition\":\"auto\",\"x\":[\"Kuwait\",\"Latvia\",\"Estonia\",\"Hungary\",\"Lithuania\",\"Belarus\",\"Chile\"],\"xaxis\":\"x\",\"y\":[0.0,0.0,0.0,0.0,0.0,0.0,0.0],\"yaxis\":\"y\",\"type\":\"bar\"},{\"alignmentgroup\":\"True\",\"hovertemplate\":\"Change Direction=Decrease\\u003cbr\\u003eCountry=%{x}\\u003cbr\\u003eAbsolute Change in Hunger Index=%{y}\\u003cextra\\u003e\\u003c\\u002fextra\\u003e\",\"legendgroup\":\"Decrease\",\"marker\":{\"color\":\"red\",\"pattern\":{\"shape\":\"\"}},\"name\":\"Decrease\",\"offsetgroup\":\"Decrease\",\"orientation\":\"v\",\"showlegend\":true,\"textposition\":\"auto\",\"x\":[\"Brazil\",\"Mauritius\",\"Jamaica\",\"Suriname\",\"Iran (Islamic Republic of)\",\"Russian Federation\",\"Malaysia\",\"Gabon\",\"Thailand\",\"Tunisia\",\"Korea (DPR)\",\"Mexico\",\"Bulgaria\",\"Papua New Guinea\",\"Romania\",\"Slovak Republic\",\"Oman\",\"Morocco\",\"United Arab Emirates\",\"Uruguay\",\"Bosnia & Herzegovina\",\"Nigeria\",\"El Salvador\",\"Ecuador\",\"Colombia\",\"South Africa\",\"North Macedonia\",\"Benin\",\"Honduras\",\"Egypt\",\"Central African Rep.\",\"Algeria\",\"Philippines\",\"China\",\"Georgia\",\"Nicaragua\",\"Saudi Arabia\",\"Guatemala\",\"Niger\",\"Dominican Republic\",\"Paraguay\",\"Pakistan\",\"Eswatini\",\"Sri Lanka\",\"Congo (Republic of)\",\"Botswana\",\"Panama\",\"Kazakhstan\",\"Kyrgyz Republic\",\"Bolivia (Plurinational State of)\",\"Armenia\",\"Guyana\",\"Liberia\",\"Gambia\",\"Iraq\",\"Mauritania\",\"Dem. Rep. of the Congo\",\"India\",\"Tanzania (United Republic of)\",\"Peru\",\"Senegal\",\"Afghanistan\",\"Azerbaijan\",\"Ghana\",\"Namibia\",\"Burkina Faso\",\"Comoros\",\"Togo\",\"Kenya\",\"Albania\",\"Viet Nam\",\"Mali\",\"Uzbekistan\",\"Rwanda\",\"Haiti\",\"Cambodia\",\"Cameroon\",\"Malawi\",\"Indonesia\",\"Turkmenistan\",\"Bangladesh\",\"Djibouti\",\"Myanmar\",\"Mongolia\",\"Chad\",\"Nepal\",\"Lao PDR\",\"Ethiopia\",\"Moldova\",\"Zambia\",\"Angola\",\"Tajikistan\",\"Sierra Leone\",\"C\\u00c3\\u00b4te d'Ivoire\"],\"xaxis\":\"x\",\"y\":[-0.39999999999999947,-0.5,-0.5999999999999996,-0.9000000000000004,-1.1000000000000005,-1.2999999999999998,-1.3000000000000007,-1.6000000000000014,-1.6999999999999993,-1.6999999999999993,-1.8000000000000007,-2.5,-2.5,-2.5,-2.8,-2.9000000000000004,-3.1999999999999993,-3.4000000000000004,-3.5,-3.5,-3.5999999999999996,-3.8000000000000007,-4.0,-4.100000000000001,-4.199999999999999,-4.199999999999999,-4.2,-4.299999999999997,-4.299999999999999,-4.399999999999999,-4.5,-4.6000000000000005,-4.699999999999999,-4.8,-4.8,-4.899999999999999,-4.8999999999999995,-5.0,-5.100000000000001,-5.300000000000001,-5.4,-5.5,-5.599999999999998,-5.599999999999998,-5.700000000000003,-5.900000000000002,-6.1,-6.1,-6.1,-6.4,-6.5,-6.5,-6.799999999999997,-6.800000000000001,-7.0,-7.300000000000001,-7.5,-7.599999999999998,-7.699999999999999,-7.8,-7.800000000000001,-8.100000000000001,-8.4,-8.400000000000002,-8.8,-9.0,-9.0,-9.099999999999998,-9.100000000000001,-9.700000000000001,-9.999999999999998,-10.100000000000001,-10.4,-10.5,-10.600000000000001,-11.200000000000001,-11.299999999999997,-11.399999999999999,-11.5,-11.6,-12.3,-12.799999999999997,-13.299999999999997,-14.3,-14.399999999999999,-15.0,-15.099999999999998,-16.400000000000002,-17.3,-17.5,-18.800000000000004,-19.2,-19.8,-32.8],\"yaxis\":\"y\",\"type\":\"bar\"}],                        {\"template\":{\"data\":{\"histogram2dcontour\":[{\"type\":\"histogram2dcontour\",\"colorbar\":{\"outlinewidth\":0,\"ticks\":\"\"},\"colorscale\":[[0.0,\"#0d0887\"],[0.1111111111111111,\"#46039f\"],[0.2222222222222222,\"#7201a8\"],[0.3333333333333333,\"#9c179e\"],[0.4444444444444444,\"#bd3786\"],[0.5555555555555556,\"#d8576b\"],[0.6666666666666666,\"#ed7953\"],[0.7777777777777778,\"#fb9f3a\"],[0.8888888888888888,\"#fdca26\"],[1.0,\"#f0f921\"]]}],\"choropleth\":[{\"type\":\"choropleth\",\"colorbar\":{\"outlinewidth\":0,\"ticks\":\"\"}}],\"histogram2d\":[{\"type\":\"histogram2d\",\"colorbar\":{\"outlinewidth\":0,\"ticks\":\"\"},\"colorscale\":[[0.0,\"#0d0887\"],[0.1111111111111111,\"#46039f\"],[0.2222222222222222,\"#7201a8\"],[0.3333333333333333,\"#9c179e\"],[0.4444444444444444,\"#bd3786\"],[0.5555555555555556,\"#d8576b\"],[0.6666666666666666,\"#ed7953\"],[0.7777777777777778,\"#fb9f3a\"],[0.8888888888888888,\"#fdca26\"],[1.0,\"#f0f921\"]]}],\"heatmap\":[{\"type\":\"heatmap\",\"colorbar\":{\"outlinewidth\":0,\"ticks\":\"\"},\"colorscale\":[[0.0,\"#0d0887\"],[0.1111111111111111,\"#46039f\"],[0.2222222222222222,\"#7201a8\"],[0.3333333333333333,\"#9c179e\"],[0.4444444444444444,\"#bd3786\"],[0.5555555555555556,\"#d8576b\"],[0.6666666666666666,\"#ed7953\"],[0.7777777777777778,\"#fb9f3a\"],[0.8888888888888888,\"#fdca26\"],[1.0,\"#f0f921\"]]}],\"heatmapgl\":[{\"type\":\"heatmapgl\",\"colorbar\":{\"outlinewidth\":0,\"ticks\":\"\"},\"colorscale\":[[0.0,\"#0d0887\"],[0.1111111111111111,\"#46039f\"],[0.2222222222222222,\"#7201a8\"],[0.3333333333333333,\"#9c179e\"],[0.4444444444444444,\"#bd3786\"],[0.5555555555555556,\"#d8576b\"],[0.6666666666666666,\"#ed7953\"],[0.7777777777777778,\"#fb9f3a\"],[0.8888888888888888,\"#fdca26\"],[1.0,\"#f0f921\"]]}],\"contourcarpet\":[{\"type\":\"contourcarpet\",\"colorbar\":{\"outlinewidth\":0,\"ticks\":\"\"}}],\"contour\":[{\"type\":\"contour\",\"colorbar\":{\"outlinewidth\":0,\"ticks\":\"\"},\"colorscale\":[[0.0,\"#0d0887\"],[0.1111111111111111,\"#46039f\"],[0.2222222222222222,\"#7201a8\"],[0.3333333333333333,\"#9c179e\"],[0.4444444444444444,\"#bd3786\"],[0.5555555555555556,\"#d8576b\"],[0.6666666666666666,\"#ed7953\"],[0.7777777777777778,\"#fb9f3a\"],[0.8888888888888888,\"#fdca26\"],[1.0,\"#f0f921\"]]}],\"surface\":[{\"type\":\"surface\",\"colorbar\":{\"outlinewidth\":0,\"ticks\":\"\"},\"colorscale\":[[0.0,\"#0d0887\"],[0.1111111111111111,\"#46039f\"],[0.2222222222222222,\"#7201a8\"],[0.3333333333333333,\"#9c179e\"],[0.4444444444444444,\"#bd3786\"],[0.5555555555555556,\"#d8576b\"],[0.6666666666666666,\"#ed7953\"],[0.7777777777777778,\"#fb9f3a\"],[0.8888888888888888,\"#fdca26\"],[1.0,\"#f0f921\"]]}],\"mesh3d\":[{\"type\":\"mesh3d\",\"colorbar\":{\"outlinewidth\":0,\"ticks\":\"\"}}],\"scatter\":[{\"fillpattern\":{\"fillmode\":\"overlay\",\"size\":10,\"solidity\":0.2},\"type\":\"scatter\"}],\"parcoords\":[{\"type\":\"parcoords\",\"line\":{\"colorbar\":{\"outlinewidth\":0,\"ticks\":\"\"}}}],\"scatterpolargl\":[{\"type\":\"scatterpolargl\",\"marker\":{\"colorbar\":{\"outlinewidth\":0,\"ticks\":\"\"}}}],\"bar\":[{\"error_x\":{\"color\":\"#2a3f5f\"},\"error_y\":{\"color\":\"#2a3f5f\"},\"marker\":{\"line\":{\"color\":\"#E5ECF6\",\"width\":0.5},\"pattern\":{\"fillmode\":\"overlay\",\"size\":10,\"solidity\":0.2}},\"type\":\"bar\"}],\"scattergeo\":[{\"type\":\"scattergeo\",\"marker\":{\"colorbar\":{\"outlinewidth\":0,\"ticks\":\"\"}}}],\"scatterpolar\":[{\"type\":\"scatterpolar\",\"marker\":{\"colorbar\":{\"outlinewidth\":0,\"ticks\":\"\"}}}],\"histogram\":[{\"marker\":{\"pattern\":{\"fillmode\":\"overlay\",\"size\":10,\"solidity\":0.2}},\"type\":\"histogram\"}],\"scattergl\":[{\"type\":\"scattergl\",\"marker\":{\"colorbar\":{\"outlinewidth\":0,\"ticks\":\"\"}}}],\"scatter3d\":[{\"type\":\"scatter3d\",\"line\":{\"colorbar\":{\"outlinewidth\":0,\"ticks\":\"\"}},\"marker\":{\"colorbar\":{\"outlinewidth\":0,\"ticks\":\"\"}}}],\"scattermapbox\":[{\"type\":\"scattermapbox\",\"marker\":{\"colorbar\":{\"outlinewidth\":0,\"ticks\":\"\"}}}],\"scatterternary\":[{\"type\":\"scatterternary\",\"marker\":{\"colorbar\":{\"outlinewidth\":0,\"ticks\":\"\"}}}],\"scattercarpet\":[{\"type\":\"scattercarpet\",\"marker\":{\"colorbar\":{\"outlinewidth\":0,\"ticks\":\"\"}}}],\"carpet\":[{\"aaxis\":{\"endlinecolor\":\"#2a3f5f\",\"gridcolor\":\"white\",\"linecolor\":\"white\",\"minorgridcolor\":\"white\",\"startlinecolor\":\"#2a3f5f\"},\"baxis\":{\"endlinecolor\":\"#2a3f5f\",\"gridcolor\":\"white\",\"linecolor\":\"white\",\"minorgridcolor\":\"white\",\"startlinecolor\":\"#2a3f5f\"},\"type\":\"carpet\"}],\"table\":[{\"cells\":{\"fill\":{\"color\":\"#EBF0F8\"},\"line\":{\"color\":\"white\"}},\"header\":{\"fill\":{\"color\":\"#C8D4E3\"},\"line\":{\"color\":\"white\"}},\"type\":\"table\"}],\"barpolar\":[{\"marker\":{\"line\":{\"color\":\"#E5ECF6\",\"width\":0.5},\"pattern\":{\"fillmode\":\"overlay\",\"size\":10,\"solidity\":0.2}},\"type\":\"barpolar\"}],\"pie\":[{\"automargin\":true,\"type\":\"pie\"}]},\"layout\":{\"autotypenumbers\":\"strict\",\"colorway\":[\"#636efa\",\"#EF553B\",\"#00cc96\",\"#ab63fa\",\"#FFA15A\",\"#19d3f3\",\"#FF6692\",\"#B6E880\",\"#FF97FF\",\"#FECB52\"],\"font\":{\"color\":\"#2a3f5f\"},\"hovermode\":\"closest\",\"hoverlabel\":{\"align\":\"left\"},\"paper_bgcolor\":\"white\",\"plot_bgcolor\":\"#E5ECF6\",\"polar\":{\"bgcolor\":\"#E5ECF6\",\"angularaxis\":{\"gridcolor\":\"white\",\"linecolor\":\"white\",\"ticks\":\"\"},\"radialaxis\":{\"gridcolor\":\"white\",\"linecolor\":\"white\",\"ticks\":\"\"}},\"ternary\":{\"bgcolor\":\"#E5ECF6\",\"aaxis\":{\"gridcolor\":\"white\",\"linecolor\":\"white\",\"ticks\":\"\"},\"baxis\":{\"gridcolor\":\"white\",\"linecolor\":\"white\",\"ticks\":\"\"},\"caxis\":{\"gridcolor\":\"white\",\"linecolor\":\"white\",\"ticks\":\"\"}},\"coloraxis\":{\"colorbar\":{\"outlinewidth\":0,\"ticks\":\"\"}},\"colorscale\":{\"sequential\":[[0.0,\"#0d0887\"],[0.1111111111111111,\"#46039f\"],[0.2222222222222222,\"#7201a8\"],[0.3333333333333333,\"#9c179e\"],[0.4444444444444444,\"#bd3786\"],[0.5555555555555556,\"#d8576b\"],[0.6666666666666666,\"#ed7953\"],[0.7777777777777778,\"#fb9f3a\"],[0.8888888888888888,\"#fdca26\"],[1.0,\"#f0f921\"]],\"sequentialminus\":[[0.0,\"#0d0887\"],[0.1111111111111111,\"#46039f\"],[0.2222222222222222,\"#7201a8\"],[0.3333333333333333,\"#9c179e\"],[0.4444444444444444,\"#bd3786\"],[0.5555555555555556,\"#d8576b\"],[0.6666666666666666,\"#ed7953\"],[0.7777777777777778,\"#fb9f3a\"],[0.8888888888888888,\"#fdca26\"],[1.0,\"#f0f921\"]],\"diverging\":[[0,\"#8e0152\"],[0.1,\"#c51b7d\"],[0.2,\"#de77ae\"],[0.3,\"#f1b6da\"],[0.4,\"#fde0ef\"],[0.5,\"#f7f7f7\"],[0.6,\"#e6f5d0\"],[0.7,\"#b8e186\"],[0.8,\"#7fbc41\"],[0.9,\"#4d9221\"],[1,\"#276419\"]]},\"xaxis\":{\"gridcolor\":\"white\",\"linecolor\":\"white\",\"ticks\":\"\",\"title\":{\"standoff\":15},\"zerolinecolor\":\"white\",\"automargin\":true,\"zerolinewidth\":2},\"yaxis\":{\"gridcolor\":\"white\",\"linecolor\":\"white\",\"ticks\":\"\",\"title\":{\"standoff\":15},\"zerolinecolor\":\"white\",\"automargin\":true,\"zerolinewidth\":2},\"scene\":{\"xaxis\":{\"backgroundcolor\":\"#E5ECF6\",\"gridcolor\":\"white\",\"linecolor\":\"white\",\"showbackground\":true,\"ticks\":\"\",\"zerolinecolor\":\"white\",\"gridwidth\":2},\"yaxis\":{\"backgroundcolor\":\"#E5ECF6\",\"gridcolor\":\"white\",\"linecolor\":\"white\",\"showbackground\":true,\"ticks\":\"\",\"zerolinecolor\":\"white\",\"gridwidth\":2},\"zaxis\":{\"backgroundcolor\":\"#E5ECF6\",\"gridcolor\":\"white\",\"linecolor\":\"white\",\"showbackground\":true,\"ticks\":\"\",\"zerolinecolor\":\"white\",\"gridwidth\":2}},\"shapedefaults\":{\"line\":{\"color\":\"#2a3f5f\"}},\"annotationdefaults\":{\"arrowcolor\":\"#2a3f5f\",\"arrowhead\":0,\"arrowwidth\":1},\"geo\":{\"bgcolor\":\"white\",\"landcolor\":\"#E5ECF6\",\"subunitcolor\":\"white\",\"showland\":true,\"showlakes\":true,\"lakecolor\":\"white\"},\"title\":{\"x\":0.05},\"mapbox\":{\"style\":\"light\"}}},\"xaxis\":{\"anchor\":\"y\",\"domain\":[0.0,1.0],\"title\":{\"text\":\"Country\"}},\"yaxis\":{\"anchor\":\"x\",\"domain\":[0.0,1.0],\"title\":{\"text\":\"Absolute Change in Hunger Index\"}},\"legend\":{\"title\":{\"text\":\"Change Direction\"},\"tracegroupgap\":0},\"title\":{\"text\":\"Absolute Change in Global Hunger Index for All Countries\"},\"barmode\":\"relative\",\"annotations\":[{\"arrowhead\":1,\"ax\":0,\"ay\":-40,\"showarrow\":true,\"x\":\"Kuwait\",\"y\":0.0},{\"arrowhead\":1,\"ax\":0,\"ay\":-40,\"showarrow\":true,\"x\":\"Latvia\",\"y\":0.0},{\"arrowhead\":1,\"ax\":0,\"ay\":-40,\"showarrow\":true,\"x\":\"Estonia\",\"y\":0.0},{\"arrowhead\":1,\"ax\":0,\"ay\":-40,\"showarrow\":true,\"x\":\"Hungary\",\"y\":0.0},{\"arrowhead\":1,\"ax\":0,\"ay\":-40,\"showarrow\":true,\"x\":\"Lithuania\",\"y\":0.0},{\"arrowhead\":1,\"ax\":0,\"ay\":-40,\"showarrow\":true,\"x\":\"Belarus\",\"y\":0.0},{\"arrowhead\":1,\"ax\":0,\"ay\":-40,\"showarrow\":true,\"x\":\"Chile\",\"y\":0.0}]},                        {\"responsive\": true}                    ).then(function(){\n",
              "                            \n",
              "var gd = document.getElementById('f4cff0b0-3e5e-4fd5-bfa3-3a5cf6d0dc42');\n",
              "var x = new MutationObserver(function (mutations, observer) {{\n",
              "        var display = window.getComputedStyle(gd).display;\n",
              "        if (!display || display === 'none') {{\n",
              "            console.log([gd, 'removed!']);\n",
              "            Plotly.purge(gd);\n",
              "            observer.disconnect();\n",
              "        }}\n",
              "}});\n",
              "\n",
              "// Listen for the removal of the full notebook cells\n",
              "var notebookContainer = gd.closest('#notebook-container');\n",
              "if (notebookContainer) {{\n",
              "    x.observe(notebookContainer, {childList: true});\n",
              "}}\n",
              "\n",
              "// Listen for the clearing of the current output cell\n",
              "var outputEl = gd.closest('.output');\n",
              "if (outputEl) {{\n",
              "    x.observe(outputEl, {childList: true});\n",
              "}}\n",
              "\n",
              "                        })                };                            </script>        </div>\n",
              "</body>\n",
              "</html>"
            ]
          },
          "metadata": {}
        }
      ]
    },
    {
      "cell_type": "markdown",
      "source": [
        "Analysis part 3 -: Top 10 bottom 10"
      ],
      "metadata": {
        "id": "IMunue_I5Afy"
      }
    },
    {
      "cell_type": "code",
      "execution_count": 7,
      "metadata": {
        "colab": {
          "base_uri": "https://localhost:8080/",
          "height": 542
        },
        "id": "8armGIBk-cDK",
        "outputId": "ef6b8be2-9625-43f4-e31b-fc78147c5eb7"
      },
      "outputs": [
        {
          "output_type": "display_data",
          "data": {
            "text/html": [
              "<html>\n",
              "<head><meta charset=\"utf-8\" /></head>\n",
              "<body>\n",
              "    <div>            <script src=\"https://cdnjs.cloudflare.com/ajax/libs/mathjax/2.7.5/MathJax.js?config=TeX-AMS-MML_SVG\"></script><script type=\"text/javascript\">if (window.MathJax && window.MathJax.Hub && window.MathJax.Hub.Config) {window.MathJax.Hub.Config({SVG: {font: \"STIX-Web\"}});}</script>                <script type=\"text/javascript\">window.PlotlyConfig = {MathJaxConfig: 'local'};</script>\n",
              "        <script charset=\"utf-8\" src=\"https://cdn.plot.ly/plotly-2.24.1.min.js\"></script>                <div id=\"22f2aa46-34f2-4279-a0a3-cf8debc3f140\" class=\"plotly-graph-div\" style=\"height:525px; width:100%;\"></div>            <script type=\"text/javascript\">                                    window.PLOTLYENV=window.PLOTLYENV || {};                                    if (document.getElementById(\"22f2aa46-34f2-4279-a0a3-cf8debc3f140\")) {                    Plotly.newPlot(                        \"22f2aa46-34f2-4279-a0a3-cf8debc3f140\",                        [{\"alignmentgroup\":\"True\",\"hovertemplate\":\"Hunger Index=%{marker.color}\\u003cbr\\u003eCountry=%{y}\\u003cextra\\u003e\\u003c\\u002fextra\\u003e\",\"legendgroup\":\"\",\"marker\":{\"color\":[42.3,41.0,39.9,35.7,35.5,35.1,34.6,33.0,32.2,31.3,3.0,3.0,3.0,3.0,3.0,3.0,3.0,3.0,3.0,3.0],\"coloraxis\":\"coloraxis\",\"pattern\":{\"shape\":\"\"}},\"name\":\"\",\"offsetgroup\":\"\",\"orientation\":\"h\",\"showlegend\":false,\"textposition\":\"auto\",\"x\":[42.3,41.0,39.9,35.7,35.5,35.1,34.6,33.0,32.2,31.3,3.0,3.0,3.0,3.0,3.0,3.0,3.0,3.0,3.0,3.0],\"xaxis\":\"x\",\"y\":[\"Central African Rep.\",\"Madagascar\",\"Yemen\",\"Dem. Rep. of the Congo\",\"Lesotho\",\"Niger\",\"Chad\",\"Guinea-Bissau\",\"Liberia\",\"Sierra Leone\",\"Turkmenistan\",\"Estonia\",\"Georgia\",\"Hungary\",\"Belarus\",\"Latvia\",\"Lithuania\",\"Moldova\",\"North Macedonia\",\"Kuwait\"],\"yaxis\":\"y\",\"type\":\"bar\"}],                        {\"template\":{\"data\":{\"histogram2dcontour\":[{\"type\":\"histogram2dcontour\",\"colorbar\":{\"outlinewidth\":0,\"ticks\":\"\"},\"colorscale\":[[0.0,\"#0d0887\"],[0.1111111111111111,\"#46039f\"],[0.2222222222222222,\"#7201a8\"],[0.3333333333333333,\"#9c179e\"],[0.4444444444444444,\"#bd3786\"],[0.5555555555555556,\"#d8576b\"],[0.6666666666666666,\"#ed7953\"],[0.7777777777777778,\"#fb9f3a\"],[0.8888888888888888,\"#fdca26\"],[1.0,\"#f0f921\"]]}],\"choropleth\":[{\"type\":\"choropleth\",\"colorbar\":{\"outlinewidth\":0,\"ticks\":\"\"}}],\"histogram2d\":[{\"type\":\"histogram2d\",\"colorbar\":{\"outlinewidth\":0,\"ticks\":\"\"},\"colorscale\":[[0.0,\"#0d0887\"],[0.1111111111111111,\"#46039f\"],[0.2222222222222222,\"#7201a8\"],[0.3333333333333333,\"#9c179e\"],[0.4444444444444444,\"#bd3786\"],[0.5555555555555556,\"#d8576b\"],[0.6666666666666666,\"#ed7953\"],[0.7777777777777778,\"#fb9f3a\"],[0.8888888888888888,\"#fdca26\"],[1.0,\"#f0f921\"]]}],\"heatmap\":[{\"type\":\"heatmap\",\"colorbar\":{\"outlinewidth\":0,\"ticks\":\"\"},\"colorscale\":[[0.0,\"#0d0887\"],[0.1111111111111111,\"#46039f\"],[0.2222222222222222,\"#7201a8\"],[0.3333333333333333,\"#9c179e\"],[0.4444444444444444,\"#bd3786\"],[0.5555555555555556,\"#d8576b\"],[0.6666666666666666,\"#ed7953\"],[0.7777777777777778,\"#fb9f3a\"],[0.8888888888888888,\"#fdca26\"],[1.0,\"#f0f921\"]]}],\"heatmapgl\":[{\"type\":\"heatmapgl\",\"colorbar\":{\"outlinewidth\":0,\"ticks\":\"\"},\"colorscale\":[[0.0,\"#0d0887\"],[0.1111111111111111,\"#46039f\"],[0.2222222222222222,\"#7201a8\"],[0.3333333333333333,\"#9c179e\"],[0.4444444444444444,\"#bd3786\"],[0.5555555555555556,\"#d8576b\"],[0.6666666666666666,\"#ed7953\"],[0.7777777777777778,\"#fb9f3a\"],[0.8888888888888888,\"#fdca26\"],[1.0,\"#f0f921\"]]}],\"contourcarpet\":[{\"type\":\"contourcarpet\",\"colorbar\":{\"outlinewidth\":0,\"ticks\":\"\"}}],\"contour\":[{\"type\":\"contour\",\"colorbar\":{\"outlinewidth\":0,\"ticks\":\"\"},\"colorscale\":[[0.0,\"#0d0887\"],[0.1111111111111111,\"#46039f\"],[0.2222222222222222,\"#7201a8\"],[0.3333333333333333,\"#9c179e\"],[0.4444444444444444,\"#bd3786\"],[0.5555555555555556,\"#d8576b\"],[0.6666666666666666,\"#ed7953\"],[0.7777777777777778,\"#fb9f3a\"],[0.8888888888888888,\"#fdca26\"],[1.0,\"#f0f921\"]]}],\"surface\":[{\"type\":\"surface\",\"colorbar\":{\"outlinewidth\":0,\"ticks\":\"\"},\"colorscale\":[[0.0,\"#0d0887\"],[0.1111111111111111,\"#46039f\"],[0.2222222222222222,\"#7201a8\"],[0.3333333333333333,\"#9c179e\"],[0.4444444444444444,\"#bd3786\"],[0.5555555555555556,\"#d8576b\"],[0.6666666666666666,\"#ed7953\"],[0.7777777777777778,\"#fb9f3a\"],[0.8888888888888888,\"#fdca26\"],[1.0,\"#f0f921\"]]}],\"mesh3d\":[{\"type\":\"mesh3d\",\"colorbar\":{\"outlinewidth\":0,\"ticks\":\"\"}}],\"scatter\":[{\"fillpattern\":{\"fillmode\":\"overlay\",\"size\":10,\"solidity\":0.2},\"type\":\"scatter\"}],\"parcoords\":[{\"type\":\"parcoords\",\"line\":{\"colorbar\":{\"outlinewidth\":0,\"ticks\":\"\"}}}],\"scatterpolargl\":[{\"type\":\"scatterpolargl\",\"marker\":{\"colorbar\":{\"outlinewidth\":0,\"ticks\":\"\"}}}],\"bar\":[{\"error_x\":{\"color\":\"#2a3f5f\"},\"error_y\":{\"color\":\"#2a3f5f\"},\"marker\":{\"line\":{\"color\":\"#E5ECF6\",\"width\":0.5},\"pattern\":{\"fillmode\":\"overlay\",\"size\":10,\"solidity\":0.2}},\"type\":\"bar\"}],\"scattergeo\":[{\"type\":\"scattergeo\",\"marker\":{\"colorbar\":{\"outlinewidth\":0,\"ticks\":\"\"}}}],\"scatterpolar\":[{\"type\":\"scatterpolar\",\"marker\":{\"colorbar\":{\"outlinewidth\":0,\"ticks\":\"\"}}}],\"histogram\":[{\"marker\":{\"pattern\":{\"fillmode\":\"overlay\",\"size\":10,\"solidity\":0.2}},\"type\":\"histogram\"}],\"scattergl\":[{\"type\":\"scattergl\",\"marker\":{\"colorbar\":{\"outlinewidth\":0,\"ticks\":\"\"}}}],\"scatter3d\":[{\"type\":\"scatter3d\",\"line\":{\"colorbar\":{\"outlinewidth\":0,\"ticks\":\"\"}},\"marker\":{\"colorbar\":{\"outlinewidth\":0,\"ticks\":\"\"}}}],\"scattermapbox\":[{\"type\":\"scattermapbox\",\"marker\":{\"colorbar\":{\"outlinewidth\":0,\"ticks\":\"\"}}}],\"scatterternary\":[{\"type\":\"scatterternary\",\"marker\":{\"colorbar\":{\"outlinewidth\":0,\"ticks\":\"\"}}}],\"scattercarpet\":[{\"type\":\"scattercarpet\",\"marker\":{\"colorbar\":{\"outlinewidth\":0,\"ticks\":\"\"}}}],\"carpet\":[{\"aaxis\":{\"endlinecolor\":\"#2a3f5f\",\"gridcolor\":\"white\",\"linecolor\":\"white\",\"minorgridcolor\":\"white\",\"startlinecolor\":\"#2a3f5f\"},\"baxis\":{\"endlinecolor\":\"#2a3f5f\",\"gridcolor\":\"white\",\"linecolor\":\"white\",\"minorgridcolor\":\"white\",\"startlinecolor\":\"#2a3f5f\"},\"type\":\"carpet\"}],\"table\":[{\"cells\":{\"fill\":{\"color\":\"#EBF0F8\"},\"line\":{\"color\":\"white\"}},\"header\":{\"fill\":{\"color\":\"#C8D4E3\"},\"line\":{\"color\":\"white\"}},\"type\":\"table\"}],\"barpolar\":[{\"marker\":{\"line\":{\"color\":\"#E5ECF6\",\"width\":0.5},\"pattern\":{\"fillmode\":\"overlay\",\"size\":10,\"solidity\":0.2}},\"type\":\"barpolar\"}],\"pie\":[{\"automargin\":true,\"type\":\"pie\"}]},\"layout\":{\"autotypenumbers\":\"strict\",\"colorway\":[\"#636efa\",\"#EF553B\",\"#00cc96\",\"#ab63fa\",\"#FFA15A\",\"#19d3f3\",\"#FF6692\",\"#B6E880\",\"#FF97FF\",\"#FECB52\"],\"font\":{\"color\":\"#2a3f5f\"},\"hovermode\":\"closest\",\"hoverlabel\":{\"align\":\"left\"},\"paper_bgcolor\":\"white\",\"plot_bgcolor\":\"#E5ECF6\",\"polar\":{\"bgcolor\":\"#E5ECF6\",\"angularaxis\":{\"gridcolor\":\"white\",\"linecolor\":\"white\",\"ticks\":\"\"},\"radialaxis\":{\"gridcolor\":\"white\",\"linecolor\":\"white\",\"ticks\":\"\"}},\"ternary\":{\"bgcolor\":\"#E5ECF6\",\"aaxis\":{\"gridcolor\":\"white\",\"linecolor\":\"white\",\"ticks\":\"\"},\"baxis\":{\"gridcolor\":\"white\",\"linecolor\":\"white\",\"ticks\":\"\"},\"caxis\":{\"gridcolor\":\"white\",\"linecolor\":\"white\",\"ticks\":\"\"}},\"coloraxis\":{\"colorbar\":{\"outlinewidth\":0,\"ticks\":\"\"}},\"colorscale\":{\"sequential\":[[0.0,\"#0d0887\"],[0.1111111111111111,\"#46039f\"],[0.2222222222222222,\"#7201a8\"],[0.3333333333333333,\"#9c179e\"],[0.4444444444444444,\"#bd3786\"],[0.5555555555555556,\"#d8576b\"],[0.6666666666666666,\"#ed7953\"],[0.7777777777777778,\"#fb9f3a\"],[0.8888888888888888,\"#fdca26\"],[1.0,\"#f0f921\"]],\"sequentialminus\":[[0.0,\"#0d0887\"],[0.1111111111111111,\"#46039f\"],[0.2222222222222222,\"#7201a8\"],[0.3333333333333333,\"#9c179e\"],[0.4444444444444444,\"#bd3786\"],[0.5555555555555556,\"#d8576b\"],[0.6666666666666666,\"#ed7953\"],[0.7777777777777778,\"#fb9f3a\"],[0.8888888888888888,\"#fdca26\"],[1.0,\"#f0f921\"]],\"diverging\":[[0,\"#8e0152\"],[0.1,\"#c51b7d\"],[0.2,\"#de77ae\"],[0.3,\"#f1b6da\"],[0.4,\"#fde0ef\"],[0.5,\"#f7f7f7\"],[0.6,\"#e6f5d0\"],[0.7,\"#b8e186\"],[0.8,\"#7fbc41\"],[0.9,\"#4d9221\"],[1,\"#276419\"]]},\"xaxis\":{\"gridcolor\":\"white\",\"linecolor\":\"white\",\"ticks\":\"\",\"title\":{\"standoff\":15},\"zerolinecolor\":\"white\",\"automargin\":true,\"zerolinewidth\":2},\"yaxis\":{\"gridcolor\":\"white\",\"linecolor\":\"white\",\"ticks\":\"\",\"title\":{\"standoff\":15},\"zerolinecolor\":\"white\",\"automargin\":true,\"zerolinewidth\":2},\"scene\":{\"xaxis\":{\"backgroundcolor\":\"#E5ECF6\",\"gridcolor\":\"white\",\"linecolor\":\"white\",\"showbackground\":true,\"ticks\":\"\",\"zerolinecolor\":\"white\",\"gridwidth\":2},\"yaxis\":{\"backgroundcolor\":\"#E5ECF6\",\"gridcolor\":\"white\",\"linecolor\":\"white\",\"showbackground\":true,\"ticks\":\"\",\"zerolinecolor\":\"white\",\"gridwidth\":2},\"zaxis\":{\"backgroundcolor\":\"#E5ECF6\",\"gridcolor\":\"white\",\"linecolor\":\"white\",\"showbackground\":true,\"ticks\":\"\",\"zerolinecolor\":\"white\",\"gridwidth\":2}},\"shapedefaults\":{\"line\":{\"color\":\"#2a3f5f\"}},\"annotationdefaults\":{\"arrowcolor\":\"#2a3f5f\",\"arrowhead\":0,\"arrowwidth\":1},\"geo\":{\"bgcolor\":\"white\",\"landcolor\":\"#E5ECF6\",\"subunitcolor\":\"white\",\"showland\":true,\"showlakes\":true,\"lakecolor\":\"white\"},\"title\":{\"x\":0.05},\"mapbox\":{\"style\":\"light\"}}},\"xaxis\":{\"anchor\":\"y\",\"domain\":[0.0,1.0],\"title\":{\"text\":\"Hunger Index\"}},\"yaxis\":{\"anchor\":\"x\",\"domain\":[0.0,1.0],\"title\":{\"text\":\"Country\"}},\"coloraxis\":{\"colorbar\":{\"title\":{\"text\":\"Hunger Index\"}},\"colorscale\":[[0.0,\"rgb(196, 230, 195)\"],[0.16666666666666666,\"rgb(150, 210, 164)\"],[0.3333333333333333,\"rgb(109, 188, 144)\"],[0.5,\"rgb(77, 162, 132)\"],[0.6666666666666666,\"rgb(54, 135, 122)\"],[0.8333333333333334,\"rgb(38, 107, 110)\"],[1.0,\"rgb(29, 79, 96)\"]]},\"legend\":{\"tracegroupgap\":0},\"title\":{\"text\":\"Comparison of Hunger Levels of Top and Bottom 10 Countries\"},\"barmode\":\"relative\",\"showlegend\":false},                        {\"responsive\": true}                    ).then(function(){\n",
              "                            \n",
              "var gd = document.getElementById('22f2aa46-34f2-4279-a0a3-cf8debc3f140');\n",
              "var x = new MutationObserver(function (mutations, observer) {{\n",
              "        var display = window.getComputedStyle(gd).display;\n",
              "        if (!display || display === 'none') {{\n",
              "            console.log([gd, 'removed!']);\n",
              "            Plotly.purge(gd);\n",
              "            observer.disconnect();\n",
              "        }}\n",
              "}});\n",
              "\n",
              "// Listen for the removal of the full notebook cells\n",
              "var notebookContainer = gd.closest('#notebook-container');\n",
              "if (notebookContainer) {{\n",
              "    x.observe(notebookContainer, {childList: true});\n",
              "}}\n",
              "\n",
              "// Listen for the clearing of the current output cell\n",
              "var outputEl = gd.closest('.output');\n",
              "if (outputEl) {{\n",
              "    x.observe(outputEl, {childList: true});\n",
              "}}\n",
              "\n",
              "                        })                };                            </script>        </div>\n",
              "</body>\n",
              "</html>"
            ]
          },
          "metadata": {}
        }
      ],
      "source": [
        "import pandas as pd\n",
        "import numpy as np\n",
        "import matplotlib.pyplot as plt\n",
        "import plotly.graph_objects as go\n",
        "import plotly.express as px\n",
        "\n",
        "# Load the dataset with specified encoding\n",
        "df = pd.read_csv('/content/more_years.csv', encoding='ISO-8859-1')\n",
        "\n",
        "\n",
        "\n",
        "# Convert numeric columns to the appropriate data type\n",
        "df['2007'] = pd.to_numeric(df['2007'], errors='coerce')\n",
        "df['2008'] = pd.to_numeric(df['2008'], errors='coerce')\n",
        "df['2014'] = pd.to_numeric(df['2014'], errors='coerce')\n",
        "df['2015'] = pd.to_numeric(df['2015'], errors='coerce')\n",
        "df['2022'] = pd.to_numeric(df['2022'], errors='coerce')\n",
        "df['2023'] = pd.to_numeric(df['2023'], errors='coerce')\n",
        "# Filter the DataFrame for the selected countries from various continents\n",
        "countries = df['Country'].unique()  # Use all unique countries\n",
        "selected_countries = df[df['Country'].isin(countries)].copy()\n",
        "\n",
        "# Remove countries with missing values\n",
        "selected_countries.dropna(subset=['2007', '2008', '2014', '2015', '2022','2023' ], inplace=True)\n",
        "\n",
        "# Sorting countries based on the latest hunger index (2023)\n",
        "sorted_countries = selected_countries.sort_values('2023', ascending=False)\n",
        "\n",
        "# Plotting the top 10 and last 10 countries\n",
        "top_10_countries = sorted_countries.head(10)\n",
        "bottom_10_countries = sorted_countries.tail(10)\n",
        "\n",
        "# Concatenating top and bottom countries\n",
        "selected_countries = pd.concat([top_10_countries, bottom_10_countries])\n",
        "\n",
        "# Creating the horizontal bar chart with custom colors\n",
        "fig = px.bar(selected_countries, y='Country', x='2023', orientation='h',\n",
        "             labels={'2023': 'Hunger Index'}, title='Comparison of Hunger Levels of Top and Bottom 10 Countries',\n",
        "             color='2023', color_continuous_scale='blugrn')\n",
        "fig.update_layout(showlegend=False)\n",
        "\n",
        "fig.show()\n"
      ]
    },
    {
      "cell_type": "markdown",
      "source": [
        "Percentage of countries having hunger index in a particular region"
      ],
      "metadata": {
        "id": "XoL-x4sk6LCZ"
      }
    },
    {
      "cell_type": "code",
      "execution_count": 8,
      "metadata": {
        "colab": {
          "base_uri": "https://localhost:8080/",
          "height": 542
        },
        "id": "O0PHoVoWFERP",
        "outputId": "c2a29208-781f-4237-8194-599c90273ccf"
      },
      "outputs": [
        {
          "output_type": "display_data",
          "data": {
            "text/html": [
              "<html>\n",
              "<head><meta charset=\"utf-8\" /></head>\n",
              "<body>\n",
              "    <div>            <script src=\"https://cdnjs.cloudflare.com/ajax/libs/mathjax/2.7.5/MathJax.js?config=TeX-AMS-MML_SVG\"></script><script type=\"text/javascript\">if (window.MathJax && window.MathJax.Hub && window.MathJax.Hub.Config) {window.MathJax.Hub.Config({SVG: {font: \"STIX-Web\"}});}</script>                <script type=\"text/javascript\">window.PlotlyConfig = {MathJaxConfig: 'local'};</script>\n",
              "        <script charset=\"utf-8\" src=\"https://cdn.plot.ly/plotly-2.24.1.min.js\"></script>                <div id=\"1e16ce01-f7a6-4275-a281-965d626a9c9d\" class=\"plotly-graph-div\" style=\"height:525px; width:100%;\"></div>            <script type=\"text/javascript\">                                    window.PLOTLYENV=window.PLOTLYENV || {};                                    if (document.getElementById(\"1e16ce01-f7a6-4275-a281-965d626a9c9d\")) {                    Plotly.newPlot(                        \"1e16ce01-f7a6-4275-a281-965d626a9c9d\",                        [{\"hole\":0.3,\"labels\":[\"Africa\",\"Oceania\",\"Asia\",\"Middle East\",\"North America\",\"South America\",\"Europe\"],\"pull\":[0.1,0,0,0,0,0,0,0],\"textinfo\":\"label+percent\",\"values\":[23.145,18.366666666666664,14.192,13.328571428571427,12.109090909090911,9.191666666666666,4.193333333333333],\"type\":\"pie\"}],                        {\"template\":{\"data\":{\"histogram2dcontour\":[{\"type\":\"histogram2dcontour\",\"colorbar\":{\"outlinewidth\":0,\"ticks\":\"\"},\"colorscale\":[[0.0,\"#0d0887\"],[0.1111111111111111,\"#46039f\"],[0.2222222222222222,\"#7201a8\"],[0.3333333333333333,\"#9c179e\"],[0.4444444444444444,\"#bd3786\"],[0.5555555555555556,\"#d8576b\"],[0.6666666666666666,\"#ed7953\"],[0.7777777777777778,\"#fb9f3a\"],[0.8888888888888888,\"#fdca26\"],[1.0,\"#f0f921\"]]}],\"choropleth\":[{\"type\":\"choropleth\",\"colorbar\":{\"outlinewidth\":0,\"ticks\":\"\"}}],\"histogram2d\":[{\"type\":\"histogram2d\",\"colorbar\":{\"outlinewidth\":0,\"ticks\":\"\"},\"colorscale\":[[0.0,\"#0d0887\"],[0.1111111111111111,\"#46039f\"],[0.2222222222222222,\"#7201a8\"],[0.3333333333333333,\"#9c179e\"],[0.4444444444444444,\"#bd3786\"],[0.5555555555555556,\"#d8576b\"],[0.6666666666666666,\"#ed7953\"],[0.7777777777777778,\"#fb9f3a\"],[0.8888888888888888,\"#fdca26\"],[1.0,\"#f0f921\"]]}],\"heatmap\":[{\"type\":\"heatmap\",\"colorbar\":{\"outlinewidth\":0,\"ticks\":\"\"},\"colorscale\":[[0.0,\"#0d0887\"],[0.1111111111111111,\"#46039f\"],[0.2222222222222222,\"#7201a8\"],[0.3333333333333333,\"#9c179e\"],[0.4444444444444444,\"#bd3786\"],[0.5555555555555556,\"#d8576b\"],[0.6666666666666666,\"#ed7953\"],[0.7777777777777778,\"#fb9f3a\"],[0.8888888888888888,\"#fdca26\"],[1.0,\"#f0f921\"]]}],\"heatmapgl\":[{\"type\":\"heatmapgl\",\"colorbar\":{\"outlinewidth\":0,\"ticks\":\"\"},\"colorscale\":[[0.0,\"#0d0887\"],[0.1111111111111111,\"#46039f\"],[0.2222222222222222,\"#7201a8\"],[0.3333333333333333,\"#9c179e\"],[0.4444444444444444,\"#bd3786\"],[0.5555555555555556,\"#d8576b\"],[0.6666666666666666,\"#ed7953\"],[0.7777777777777778,\"#fb9f3a\"],[0.8888888888888888,\"#fdca26\"],[1.0,\"#f0f921\"]]}],\"contourcarpet\":[{\"type\":\"contourcarpet\",\"colorbar\":{\"outlinewidth\":0,\"ticks\":\"\"}}],\"contour\":[{\"type\":\"contour\",\"colorbar\":{\"outlinewidth\":0,\"ticks\":\"\"},\"colorscale\":[[0.0,\"#0d0887\"],[0.1111111111111111,\"#46039f\"],[0.2222222222222222,\"#7201a8\"],[0.3333333333333333,\"#9c179e\"],[0.4444444444444444,\"#bd3786\"],[0.5555555555555556,\"#d8576b\"],[0.6666666666666666,\"#ed7953\"],[0.7777777777777778,\"#fb9f3a\"],[0.8888888888888888,\"#fdca26\"],[1.0,\"#f0f921\"]]}],\"surface\":[{\"type\":\"surface\",\"colorbar\":{\"outlinewidth\":0,\"ticks\":\"\"},\"colorscale\":[[0.0,\"#0d0887\"],[0.1111111111111111,\"#46039f\"],[0.2222222222222222,\"#7201a8\"],[0.3333333333333333,\"#9c179e\"],[0.4444444444444444,\"#bd3786\"],[0.5555555555555556,\"#d8576b\"],[0.6666666666666666,\"#ed7953\"],[0.7777777777777778,\"#fb9f3a\"],[0.8888888888888888,\"#fdca26\"],[1.0,\"#f0f921\"]]}],\"mesh3d\":[{\"type\":\"mesh3d\",\"colorbar\":{\"outlinewidth\":0,\"ticks\":\"\"}}],\"scatter\":[{\"fillpattern\":{\"fillmode\":\"overlay\",\"size\":10,\"solidity\":0.2},\"type\":\"scatter\"}],\"parcoords\":[{\"type\":\"parcoords\",\"line\":{\"colorbar\":{\"outlinewidth\":0,\"ticks\":\"\"}}}],\"scatterpolargl\":[{\"type\":\"scatterpolargl\",\"marker\":{\"colorbar\":{\"outlinewidth\":0,\"ticks\":\"\"}}}],\"bar\":[{\"error_x\":{\"color\":\"#2a3f5f\"},\"error_y\":{\"color\":\"#2a3f5f\"},\"marker\":{\"line\":{\"color\":\"#E5ECF6\",\"width\":0.5},\"pattern\":{\"fillmode\":\"overlay\",\"size\":10,\"solidity\":0.2}},\"type\":\"bar\"}],\"scattergeo\":[{\"type\":\"scattergeo\",\"marker\":{\"colorbar\":{\"outlinewidth\":0,\"ticks\":\"\"}}}],\"scatterpolar\":[{\"type\":\"scatterpolar\",\"marker\":{\"colorbar\":{\"outlinewidth\":0,\"ticks\":\"\"}}}],\"histogram\":[{\"marker\":{\"pattern\":{\"fillmode\":\"overlay\",\"size\":10,\"solidity\":0.2}},\"type\":\"histogram\"}],\"scattergl\":[{\"type\":\"scattergl\",\"marker\":{\"colorbar\":{\"outlinewidth\":0,\"ticks\":\"\"}}}],\"scatter3d\":[{\"type\":\"scatter3d\",\"line\":{\"colorbar\":{\"outlinewidth\":0,\"ticks\":\"\"}},\"marker\":{\"colorbar\":{\"outlinewidth\":0,\"ticks\":\"\"}}}],\"scattermapbox\":[{\"type\":\"scattermapbox\",\"marker\":{\"colorbar\":{\"outlinewidth\":0,\"ticks\":\"\"}}}],\"scatterternary\":[{\"type\":\"scatterternary\",\"marker\":{\"colorbar\":{\"outlinewidth\":0,\"ticks\":\"\"}}}],\"scattercarpet\":[{\"type\":\"scattercarpet\",\"marker\":{\"colorbar\":{\"outlinewidth\":0,\"ticks\":\"\"}}}],\"carpet\":[{\"aaxis\":{\"endlinecolor\":\"#2a3f5f\",\"gridcolor\":\"white\",\"linecolor\":\"white\",\"minorgridcolor\":\"white\",\"startlinecolor\":\"#2a3f5f\"},\"baxis\":{\"endlinecolor\":\"#2a3f5f\",\"gridcolor\":\"white\",\"linecolor\":\"white\",\"minorgridcolor\":\"white\",\"startlinecolor\":\"#2a3f5f\"},\"type\":\"carpet\"}],\"table\":[{\"cells\":{\"fill\":{\"color\":\"#EBF0F8\"},\"line\":{\"color\":\"white\"}},\"header\":{\"fill\":{\"color\":\"#C8D4E3\"},\"line\":{\"color\":\"white\"}},\"type\":\"table\"}],\"barpolar\":[{\"marker\":{\"line\":{\"color\":\"#E5ECF6\",\"width\":0.5},\"pattern\":{\"fillmode\":\"overlay\",\"size\":10,\"solidity\":0.2}},\"type\":\"barpolar\"}],\"pie\":[{\"automargin\":true,\"type\":\"pie\"}]},\"layout\":{\"autotypenumbers\":\"strict\",\"colorway\":[\"#636efa\",\"#EF553B\",\"#00cc96\",\"#ab63fa\",\"#FFA15A\",\"#19d3f3\",\"#FF6692\",\"#B6E880\",\"#FF97FF\",\"#FECB52\"],\"font\":{\"color\":\"#2a3f5f\"},\"hovermode\":\"closest\",\"hoverlabel\":{\"align\":\"left\"},\"paper_bgcolor\":\"white\",\"plot_bgcolor\":\"#E5ECF6\",\"polar\":{\"bgcolor\":\"#E5ECF6\",\"angularaxis\":{\"gridcolor\":\"white\",\"linecolor\":\"white\",\"ticks\":\"\"},\"radialaxis\":{\"gridcolor\":\"white\",\"linecolor\":\"white\",\"ticks\":\"\"}},\"ternary\":{\"bgcolor\":\"#E5ECF6\",\"aaxis\":{\"gridcolor\":\"white\",\"linecolor\":\"white\",\"ticks\":\"\"},\"baxis\":{\"gridcolor\":\"white\",\"linecolor\":\"white\",\"ticks\":\"\"},\"caxis\":{\"gridcolor\":\"white\",\"linecolor\":\"white\",\"ticks\":\"\"}},\"coloraxis\":{\"colorbar\":{\"outlinewidth\":0,\"ticks\":\"\"}},\"colorscale\":{\"sequential\":[[0.0,\"#0d0887\"],[0.1111111111111111,\"#46039f\"],[0.2222222222222222,\"#7201a8\"],[0.3333333333333333,\"#9c179e\"],[0.4444444444444444,\"#bd3786\"],[0.5555555555555556,\"#d8576b\"],[0.6666666666666666,\"#ed7953\"],[0.7777777777777778,\"#fb9f3a\"],[0.8888888888888888,\"#fdca26\"],[1.0,\"#f0f921\"]],\"sequentialminus\":[[0.0,\"#0d0887\"],[0.1111111111111111,\"#46039f\"],[0.2222222222222222,\"#7201a8\"],[0.3333333333333333,\"#9c179e\"],[0.4444444444444444,\"#bd3786\"],[0.5555555555555556,\"#d8576b\"],[0.6666666666666666,\"#ed7953\"],[0.7777777777777778,\"#fb9f3a\"],[0.8888888888888888,\"#fdca26\"],[1.0,\"#f0f921\"]],\"diverging\":[[0,\"#8e0152\"],[0.1,\"#c51b7d\"],[0.2,\"#de77ae\"],[0.3,\"#f1b6da\"],[0.4,\"#fde0ef\"],[0.5,\"#f7f7f7\"],[0.6,\"#e6f5d0\"],[0.7,\"#b8e186\"],[0.8,\"#7fbc41\"],[0.9,\"#4d9221\"],[1,\"#276419\"]]},\"xaxis\":{\"gridcolor\":\"white\",\"linecolor\":\"white\",\"ticks\":\"\",\"title\":{\"standoff\":15},\"zerolinecolor\":\"white\",\"automargin\":true,\"zerolinewidth\":2},\"yaxis\":{\"gridcolor\":\"white\",\"linecolor\":\"white\",\"ticks\":\"\",\"title\":{\"standoff\":15},\"zerolinecolor\":\"white\",\"automargin\":true,\"zerolinewidth\":2},\"scene\":{\"xaxis\":{\"backgroundcolor\":\"#E5ECF6\",\"gridcolor\":\"white\",\"linecolor\":\"white\",\"showbackground\":true,\"ticks\":\"\",\"zerolinecolor\":\"white\",\"gridwidth\":2},\"yaxis\":{\"backgroundcolor\":\"#E5ECF6\",\"gridcolor\":\"white\",\"linecolor\":\"white\",\"showbackground\":true,\"ticks\":\"\",\"zerolinecolor\":\"white\",\"gridwidth\":2},\"zaxis\":{\"backgroundcolor\":\"#E5ECF6\",\"gridcolor\":\"white\",\"linecolor\":\"white\",\"showbackground\":true,\"ticks\":\"\",\"zerolinecolor\":\"white\",\"gridwidth\":2}},\"shapedefaults\":{\"line\":{\"color\":\"#2a3f5f\"}},\"annotationdefaults\":{\"arrowcolor\":\"#2a3f5f\",\"arrowhead\":0,\"arrowwidth\":1},\"geo\":{\"bgcolor\":\"white\",\"landcolor\":\"#E5ECF6\",\"subunitcolor\":\"white\",\"showland\":true,\"showlakes\":true,\"lakecolor\":\"white\"},\"title\":{\"x\":0.05},\"mapbox\":{\"style\":\"light\"}}},\"title\":{\"text\":\"Average Hunger Index by Region Over the Years\"},\"scene\":{\"aspectmode\":\"data\"},\"showlegend\":true},                        {\"responsive\": true}                    ).then(function(){\n",
              "                            \n",
              "var gd = document.getElementById('1e16ce01-f7a6-4275-a281-965d626a9c9d');\n",
              "var x = new MutationObserver(function (mutations, observer) {{\n",
              "        var display = window.getComputedStyle(gd).display;\n",
              "        if (!display || display === 'none') {{\n",
              "            console.log([gd, 'removed!']);\n",
              "            Plotly.purge(gd);\n",
              "            observer.disconnect();\n",
              "        }}\n",
              "}});\n",
              "\n",
              "// Listen for the removal of the full notebook cells\n",
              "var notebookContainer = gd.closest('#notebook-container');\n",
              "if (notebookContainer) {{\n",
              "    x.observe(notebookContainer, {childList: true});\n",
              "}}\n",
              "\n",
              "// Listen for the clearing of the current output cell\n",
              "var outputEl = gd.closest('.output');\n",
              "if (outputEl) {{\n",
              "    x.observe(outputEl, {childList: true});\n",
              "}}\n",
              "\n",
              "                        })                };                            </script>        </div>\n",
              "</body>\n",
              "</html>"
            ]
          },
          "metadata": {}
        }
      ],
      "source": [
        "import pandas as pd\n",
        "import plotly.graph_objects as go\n",
        "\n",
        "# Define the country-region mapping\n",
        "country_region_mapping = {\n",
        "    'Belarus': 'Europe', 'Bosnia & Herzegovina': 'Europe', 'Chile': 'South America', 'China': 'Asia', 'Croatia': 'Europe',\n",
        "    'Estonia': 'Europe', 'Hungary': 'Europe', 'Kuwait': 'Middle East', 'Latvia': 'Europe', 'Lithuania': 'Europe',\n",
        "    'Montenegro': 'Europe', 'North Macedonia': 'Europe', 'Romania': 'Europe', 'Serbia': 'Europe', 'Slovak Republic': 'Europe',\n",
        "    'Türkiye': 'Middle East', 'Uruguay': 'South America', 'Costa Rica': 'North America', 'United Arab Emirates': 'Middle East',\n",
        "    'Brazil': 'South America', 'Uzbekistan': 'Asia', 'Georgia': 'Asia', 'Mongolia': 'Asia', 'Bulgaria': 'Europe',\n",
        "    'Kazakhstan': 'Asia', 'Tunisia': 'Africa', 'Albania': 'Europe', 'Russian Federation': 'Europe',\n",
        "    'Iran (Islamic Republic of)': 'Middle East', 'Saudi Arabia': 'Middle East', 'Argentina': 'South America', 'Algeria': 'Africa',\n",
        "    'Armenia': 'Asia', 'Moldova': 'Europe', 'Jamaica': 'North America', 'Azerbaijan': 'Asia', 'Ukraine': 'Europe',\n",
        "    'Colombia': 'South America', 'Peru': 'South America', 'Kyrgyz Republic': 'Asia', 'Paraguay': 'South America',\n",
        "    'Mexico': 'North America', 'Panama': 'North America', 'El Salvador': 'North America', 'Dominican Republic': 'North America',\n",
        "    'Trinidad & Tobago': 'North America', 'Fiji': 'Oceania', 'Morocco': 'Africa', 'Turkmenistan': 'Asia', 'Suriname': 'South America',\n",
        "    'Guyana': 'South America', 'Lebanon': 'Middle East', 'Jordan': 'Middle East', 'Cabo Verde': 'Africa', 'Viet Nam': 'Asia',\n",
        "    'Thailand': 'Asia', 'Egypt': 'Africa', 'Malaysia': 'Asia', 'South Africa': 'Africa', 'Oman': 'Middle East',\n",
        "    'Bolivia (Plurinational State of)': 'South America', 'Honduras': 'North America', 'Mauritius': 'Africa', 'Nicaragua': 'North America',\n",
        "    'Sri Lanka': 'Asia', 'Iraq': 'Middle East', 'Ghana': 'Africa', 'Tajikistan': 'Asia', 'Philippines': 'Asia', 'Ecuador': 'South America',\n",
        "    'Myanmar': 'Asia', 'Senegal': 'Africa', 'Eswatini': 'Africa', \"Côte d'Ivoire\": 'Africa', 'Cambodia': 'Asia', 'Gabon': 'Africa',\n",
        "    'Indonesia': 'Asia', 'Namibia': 'Africa', 'Guatemala': 'North America', 'Cameroon': 'Africa', 'Nepal': 'Asia', 'Lao PDR': 'Asia',\n",
        "    'Solomon Islands': 'Oceania', 'Bangladesh': 'Asia', 'Venezuela (Bolivarian Republic of)': 'South America', 'Botswana': 'Africa',\n",
        "    'Gambia': 'Africa', 'Malawi': 'Africa', 'Mauritania': 'Africa', 'Djibouti': 'Africa', 'Benin': 'Africa', 'Togo': 'Africa',\n",
        "    'Mali': 'Africa', 'Kenya': 'Africa', 'Tanzania (United Republic of)': 'Africa', 'Burkina Faso': 'Africa', 'Korea (DPR)': 'Asia',\n",
        "    'Angola': 'Africa', 'Pakistan': 'Asia', 'Papua New Guinea': 'Oceania', 'Comoros': 'Africa', 'Rwanda': 'Africa', 'Nigeria': 'Africa',\n",
        "    'Ethiopia': 'Africa', 'Congo (Republic of)': 'Africa', 'Sudan': 'Africa', 'India': 'Asia', 'Zambia': 'Africa', 'Afghanistan': 'Asia',\n",
        "    'Timor-Leste': 'Asia', 'Guinea-Bissau': 'Africa', 'Sierra Leone': 'Africa', 'Lesotho': 'Africa', 'Liberia': 'Africa', 'Niger': 'Africa',\n",
        "    'Haiti': 'North America', 'Guinea, Mozambique, Uganda, and Zimbabwe': 'Africa', 'Chad': 'Africa', 'Dem. Rep. of the Congo': 'Africa',\n",
        "    'Madagascar': 'Africa', 'Central African Rep.': 'Africa', 'Yemen': 'Middle East', 'Burundi, Somalia, South Sudan, and Syrian Arab Rep.': 'Africa'\n",
        "}\n",
        "\n",
        "# Add a new column 'Region' to the DataFrame\n",
        "df['Region'] = df['Country'].map(country_region_mapping)\n",
        "\n",
        "# Calculate the average hunger index by region\n",
        "average_hunger_index = df.groupby('Region')['2022'].mean().sort_values(ascending=False)\n",
        "\n",
        "# Plot the 3D pie chart\n",
        "fig = go.Figure(data=[go.Pie(labels=average_hunger_index.index, values=average_hunger_index.values,\n",
        "                             textinfo='label+percent',\n",
        "                             pull=[0.1, 0, 0, 0, 0, 0, 0, 0],\n",
        "                             hole=0.3)])\n",
        "fig.update_layout(title_text=\"Average Hunger Index by Region Over the Years\",\n",
        "                  scene=dict(aspectmode=\"data\"),\n",
        "                  showlegend=True)\n",
        "fig.show()\n",
        "\n"
      ]
    }
  ],
  "metadata": {
    "accelerator": "GPU",
    "colab": {
      "gpuType": "T4",
      "machine_shape": "hm",
      "provenance": []
    },
    "kernelspec": {
      "display_name": "Python 3",
      "name": "python3"
    },
    "language_info": {
      "name": "python"
    }
  },
  "nbformat": 4,
  "nbformat_minor": 0
}
